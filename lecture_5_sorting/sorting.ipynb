{
 "cells": [
  {
   "cell_type": "markdown",
   "metadata": {},
   "source": [
    "# Sorting algorithms"
   ]
  },
  {
   "cell_type": "markdown",
   "metadata": {},
   "source": [
    "## Introduction"
   ]
  },
  {
   "cell_type": "markdown",
   "metadata": {},
   "source": [
    "Sorting algorithms are well-known by many programmers, both in industry and academy. The reason is that sorting is one the oldest tasks that humanity has been doing, because when things are sorted, patterns emerge, problems become easier, etc. Just as an example, if we have a sorted list, then we can find elements very fast by using the already-seen binary search.\n",
    "\n",
    "Therefore, in this notebook, we'll focus on learning several sorting algorithms, which are different from each others. We'll start with some very easy ones, and quite inefficient, and then we'll move to some harder ones but more efficient."
   ]
  },
  {
   "cell_type": "markdown",
   "metadata": {},
   "source": [
    "## Bubble Sort"
   ]
  },
  {
   "cell_type": "markdown",
   "metadata": {},
   "source": [
    "This is a simple algorithm that works in $\\mathcal{O}(n^2)$ time. The algorithm consists of $n$ rounds, and on each round, it iterates through the elements of the array. Whenever two consecutive elements are found that are in the wrong order, the algorithm swaps them."
   ]
  },
  {
   "cell_type": "code",
   "execution_count": 12,
   "metadata": {},
   "outputs": [
    {
     "data": {
      "text/plain": [
       "[1, 1, 2, 2, 3, 5, 9, 10]"
      ]
     },
     "execution_count": 12,
     "metadata": {},
     "output_type": "execute_result"
    }
   ],
   "source": [
    "def bubble_sort(arr: list) -> list:\n",
    "    '''\n",
    "    :param arr: array to be sorted\n",
    "    :return: `arr` sorted\n",
    "    '''\n",
    "\n",
    "    n = len(arr)\n",
    "\n",
    "    for _ in range(n):\n",
    "        for i in range(n-1):\n",
    "            if arr[i] > arr[i + 1]:\n",
    "                arr[i], arr[i + 1] = arr[i + 1], arr[i]\n",
    "    \n",
    "    return arr\n",
    "\n",
    "bubble_sort([3, 1, 5, 2, 9, 10, 1, 2])"
   ]
  },
  {
   "cell_type": "markdown",
   "metadata": {},
   "source": [
    "One thing to notice is that after the first round, the largest element will be in the correct position, and more generally, after $k$ rounds, the $k$ largest elements will be in the correct positions. Thus, after $n$ rounds, the whole array will be sorted."
   ]
  },
  {
   "cell_type": "markdown",
   "metadata": {},
   "source": [
    "**Inversions**: An *inversion* is a pair of indices $(i, j)$ such that $i < j$ and $a_i > a_j$, i.e.: the elements are in the wrong order. For example, in the array `[3, 1, 5, 2, 9, 10, 1, 2]`, the inversions are $(0, 1)$, $(0, 3)$, $(0, 6)$, $(0, 7)$, $(2, 3)$, $(2, 6)$, $(2, 7)$, $(3, 6)$, $(4, 6)$, $(4, 7)$, $(5, 6)$ and $(5, 7)$.\n",
    "\n",
    "Inversions are a useful concept when analyzing sorting algorithms.\n",
    "The number of inversions indicates how much work is needed to sort the array. An array is completely sorted when there are no inversions. On the other hand, if the array elements are in the reverse order, the number of inversions is $1 + 2 + \\dots + n-1 = \\frac{n(n - 1)}{2} = \\mathcal{O}(n^2)$, which is the largest possible."
   ]
  },
  {
   "cell_type": "markdown",
   "metadata": {},
   "source": [
    "Swapping a pair of consecutive elements that are in the wrong order removes exactly one inversion from the array. Hence, if a sorting algorithm can only swap consecutive elements, each swap removes at most one inversion, and the time complexity is at least $\\mathcal{O}(n^2)$."
   ]
  },
  {
   "cell_type": "markdown",
   "metadata": {},
   "source": [
    "## Insertion sort"
   ]
  },
  {
   "cell_type": "markdown",
   "metadata": {},
   "source": [
    "This is probably the most natural sorting algorithm ever. It's how we usually, as humans, sort things in real life.\n",
    "\n",
    "If we have several cards in our hands, we usually arrange them in a particular order, which is meaninful to us. And in order to obtain this order, we usually take each card, and move it to its correct place -for whatever *correct* means to us."
   ]
  },
  {
   "cell_type": "markdown",
   "metadata": {},
   "source": [
    "We can do the same with arrays. Let's iterate from left to right, and we'll keep a sorted array with the elements seen so far. On each iteration, we'll insert the current number into the right position. That clearly describes the algorithm; thus let's jump to the code. "
   ]
  },
  {
   "cell_type": "code",
   "execution_count": 1,
   "metadata": {},
   "outputs": [
    {
     "data": {
      "text/plain": [
       "[1, 1, 2, 2, 3, 5, 9, 10]"
      ]
     },
     "execution_count": 1,
     "metadata": {},
     "output_type": "execute_result"
    }
   ],
   "source": [
    "def insertion_sort(arr: list) -> list:\n",
    "    '''\n",
    "    :param arr: array to be sorted\n",
    "    :return: a sorted copy of `arr` \n",
    "    '''\n",
    "\n",
    "    sorted_arr = []\n",
    "    n = len(arr)\n",
    "\n",
    "    for val in arr:\n",
    "        \n",
    "        position = 0\n",
    "        \n",
    "        while position < len(sorted_arr) and sorted_arr[position] < val:\n",
    "            position += 1\n",
    "        \n",
    "        sorted_arr = sorted_arr[:position] + [val] + sorted_arr[position:]\n",
    "\n",
    "    return sorted_arr\n",
    "\n",
    "insertion_sort([3, 1, 5, 2, 9, 10, 1, 2])"
   ]
  },
  {
   "cell_type": "markdown",
   "metadata": {},
   "source": [
    "Let's analyze the time-complexity of this algorithm. Clearly, the first `for`-loop performs $n$ iterations. What is not so clear is the number of operations that inner `while`-loop performs.\n",
    "\n",
    "Well, one could assume that in the worst case, the variable `position` will move from `0` to the length of `sorted_arr[]`; but can you spot that case?\n",
    "Indeed, if the array is already sorted, then on each iteration, `position` will move through the whole `sorted_arr[]` array, and then the number of operations of the program would be quadratic.\n",
    "\n",
    "But wait a second, what if before executing the algorithm, we first check if `arr[]` is already sorted. Well, in that case, is there still a case where the running time is quadratic? Of course there is. We can just take an *almost sorted* array, and it will be almost the same case as with a completely sorted array.\n",
    "\n",
    "Anyways, notice that that `while`-loop is not the only thing that makes the time quadratic.\n",
    "The line `sorted_arr = sorted_arr[:position] + [val] + sorted_arr[position:]` is moving everything from `position` till the end one step forward, which takes linear time. In particular, if `position == 0`, it would move the whole array. Such case is when the array is sorted decreasingly ($a_0 \\ge a_1 \\ge \\dots \\ge a_{n-1}$). In such case, on each iteration of the `for`-loop, the `while`-loop would find `position = 0`, and then it would take linear time to shift the whole array one step to the right.\n",
    "\n",
    "Therefore, we can conclude that the time complexity is $\\mathcal{O}(n^2)$."
   ]
  },
  {
   "cell_type": "markdown",
   "metadata": {},
   "source": [
    "## Selection sort"
   ]
  },
  {
   "cell_type": "markdown",
   "metadata": {},
   "source": [
    "During *Insertion Sort*, we iterate through each number and insert it into its right place.\n",
    "\n",
    "We can do something similar: we iterate through each position and try to find the right value that goes there.\n",
    "\n",
    "More in detail:\n",
    "We first want to find the minimum element of the array (which goes in the position $0$). Once we find it, we erase it from the input array, and try to find the next minimum (which would go in the position $1$), and so on until we fill the whole array.\n"
   ]
  },
  {
   "cell_type": "code",
   "execution_count": 2,
   "metadata": {},
   "outputs": [
    {
     "data": {
      "text/plain": [
       "[1, 1, 2, 2, 3, 5, 9, 10]"
      ]
     },
     "execution_count": 2,
     "metadata": {},
     "output_type": "execute_result"
    }
   ],
   "source": [
    "def selection_sort(arr: list) -> list:\n",
    "    '''\n",
    "    :param arr: array to be sorted\n",
    "    :return: a sorted copy of `arr` \n",
    "    '''\n",
    "\n",
    "    n = len(arr)\n",
    "    sorted_arr = [None for _ in range(n)]\n",
    "\n",
    "    for i in range(n):\n",
    "        min_val = min(arr)\n",
    "        pos_min = arr.index(min_val)\n",
    "        arr.pop(pos_min)\n",
    "        sorted_arr[i] = min_val\n",
    "\n",
    "    return sorted_arr\n",
    "\n",
    "\n",
    "selection_sort([3, 1, 5, 2, 9, 10, 1, 2])"
   ]
  },
  {
   "cell_type": "markdown",
   "metadata": {},
   "source": [
    "Because the `min()` function takes linear time, it's obvious that we're doing $n + n-1 + n-2 + \\dots + 1 = \\frac{n(n+1)}{2}$ operations, which is quadratic. Therefore, its time-complexity is $\\mathcal{O}(n^2)$."
   ]
  },
  {
   "cell_type": "markdown",
   "metadata": {},
   "source": [
    "## Heap Sort"
   ]
  },
  {
   "cell_type": "markdown",
   "metadata": {},
   "source": [
    "So, which things is *Selection Sort* doing inefficiently?\n",
    "The answer is: computing the minimum, and erasing it from the array, which both take linear time in an array, because array are too simple to perform these operations fast.\n",
    "\n",
    "But on the other side, we already know a data structure that allows us to do these two things very fast. This is **Heap**, which allows us to get the minimum in $\\mathcal{O}(1)$ time and to erase the minimum element in $\\mathcal{O}(\\log n)$ time."
   ]
  },
  {
   "cell_type": "markdown",
   "metadata": {},
   "source": [
    "Therefore, we can create a new algorithm, which is just the *Selection Sort* algorithm, but with a smart `data structure`. This is called **Heap sort**."
   ]
  },
  {
   "cell_type": "code",
   "execution_count": 3,
   "metadata": {},
   "outputs": [
    {
     "data": {
      "text/plain": [
       "[1, 1, 2, 2, 3, 5, 9, 10]"
      ]
     },
     "execution_count": 3,
     "metadata": {},
     "output_type": "execute_result"
    }
   ],
   "source": [
    "import heapq\n",
    "\n",
    "def heap_sort(arr: list) -> list:\n",
    "    '''\n",
    "    :param arr: array to be sorted\n",
    "    :return: a sorted copy of `arr` \n",
    "    '''\n",
    "    \n",
    "    n = len(arr)\n",
    "    sorted_arr = [None for i in range(n)]\n",
    "\n",
    "    heap = arr\n",
    "    heapq.heapify(heap)\n",
    "\n",
    "    for i in range(n):\n",
    "        min_val = heap[0]\n",
    "        heapq.heappop(heap)\n",
    "        sorted_arr[i] = min_val\n",
    "\n",
    "    return sorted_arr\n",
    "\n",
    "\n",
    "heap_sort([3, 1, 5, 2, 9, 10, 1, 2])"
   ]
  },
  {
   "cell_type": "markdown",
   "metadata": {},
   "source": [
    "Because the operations that were taking linear time, take $\\mathcal{O}(\\log n)$ time now, the new time-complexity is $\\mathcal{O}(n\\log n)$, which is pretty good. And this leads to the first efficient algorithm that we will see."
   ]
  },
  {
   "cell_type": "markdown",
   "metadata": {},
   "source": [
    "## Counting sort"
   ]
  },
  {
   "cell_type": "markdown",
   "metadata": {},
   "source": [
    "If we have a list of numbers, we can build a frequency array (i.e.: an array `cnt[]` where `cnt[x]` says how many times $x$ appears on the list). If all the numbers on the list are between $0$ and $M$, then the frequency array would take $\\mathcal{O}(M)$ space.\n",
    "\n",
    "With this array, we can actually sort the original list, because we know how many times the smallest number appears, and how many times the second smallest number appears, and so on...\n",
    "\n",
    "So, a short description of the algorithm:\n",
    "1. Build the frequency array of the original list.\n",
    "2. Go from left to right, and if the value at the $i$-th position of the frequency array is $t$, then append $i$ to the sorted sequence $t$ times."
   ]
  },
  {
   "cell_type": "code",
   "execution_count": 4,
   "metadata": {},
   "outputs": [
    {
     "data": {
      "text/plain": [
       "[1, 1, 2, 2, 3, 5, 9, 10]"
      ]
     },
     "execution_count": 4,
     "metadata": {},
     "output_type": "execute_result"
    }
   ],
   "source": [
    "def couting_sort(arr: list):\n",
    "    '''\n",
    "    :param arr: array to be sorted\n",
    "    :return: a sorted copy of `arr` \n",
    "    '''\n",
    "\n",
    "    sorted_arr = []\n",
    "\n",
    "    m = max(arr)\n",
    "    cnt = [0 for _ in range(m + 1)]\n",
    "\n",
    "    for i in arr:\n",
    "        cnt[i] += 1\n",
    "\n",
    "    for i in range(m + 1):\n",
    "        for _ in range(cnt[i]):\n",
    "            sorted_arr.append(i)\n",
    "\n",
    "    return sorted_arr\n",
    "\n",
    "couting_sort([3, 1, 5, 2, 9, 10, 1, 2])"
   ]
  },
  {
   "cell_type": "markdown",
   "metadata": {},
   "source": [
    "It's quite obvious that the time complexity is $\\mathcal{O}(n + m)$, where $n$ is the length of the array, and $m$ is the maximum element of the array. So, if we want to use this algorithm, we need some assumptions of the input array, such as every number being a non-negative integer (although the negative part can be fixed by shifting the numbers) and $m$ to be comparable to $n$, so that we have linear memory and time."
   ]
  },
  {
   "cell_type": "markdown",
   "metadata": {},
   "source": [
    "## Merge sort"
   ]
  },
  {
   "cell_type": "markdown",
   "metadata": {},
   "source": [
    "### Merging two sorted arrays in linear time\n",
    "\n",
    "First, let's see this simple problem:\n",
    "Given two sorted lists, implement an algorithm that merges both lists and returns a sorted list containing all the elements of both lists. Only assume that the given arrays contain only numbers, that could be any real numbers.\n",
    "\n",
    "Well, to solve this problem, we can use a standard idea called *Two-pointers*:\n",
    "\n",
    "Let's called $A$ the first list, and $B$ the second list. Let's say $n$ is the length of $A$ and $m$ is the length of $B$.\n",
    "\n",
    "We know $A_0 < A_1 < \\dots A_{n-1}$ and $B_0 < B_1 < \\dots B_{m-1}$.\n",
    "\n",
    "Let's have two variables ($i$ and $j$) that will point to positions on the arrays.\n",
    "- $i$ will point to positions in the first array.\n",
    "- $j$ will point to positions in the second array.\n",
    "\n",
    "\n",
    "The key insight is: if $A_i < B_j$, then $A_i < B_k \\ \\ \\forall k > j$, and if $B_j < A_i$, then $B_j < A_k \\ \\ \\forall k > i$.\n",
    "\n",
    "This leads us to the following algorithm:\n",
    "- We compare the initial elements of the arrays-\n",
    "- Then whoever is lower, we append it to the sorted array, and move forward to the next element.\n",
    "\n",
    "More in detail:\n",
    "On each step of the algorithm, $i$ is pointing to certain position at $A$, and $j$ is pointing to certain position at $B$. Then,\n",
    "- If $A_i < B_j$, we append $A_i$ to the resulting array, and move $i$ forward.\n",
    "- If $A_i \\ge B_j$, we append $B_j$ to the resulting array, and move $j$ forward.\n",
    "\n"
   ]
  },
  {
   "cell_type": "code",
   "execution_count": 5,
   "metadata": {},
   "outputs": [
    {
     "data": {
      "text/plain": [
       "[-1, 0, 1, 1, 4, 5, 6, 9, 10, 10, 11, 12]"
      ]
     },
     "execution_count": 5,
     "metadata": {},
     "output_type": "execute_result"
    }
   ],
   "source": [
    "def merge(a: list, b: list) -> list:\n",
    "    '''\n",
    "    :param a: first list. It must be sorted.\n",
    "    :param b: second list. It must be sorted.\n",
    "    :return: a sorted array with all elements from both `a` and `b`.\n",
    "    '''\n",
    "    \n",
    "    n, m = len(a), len(b)\n",
    "    i, j = 0, 0\n",
    "    \n",
    "    sorted_arr = []\n",
    "    while True:\n",
    "        if i == n and j == m: # reached the end of both arrays\n",
    "            break \n",
    "\n",
    "        if i == n: # reached the end of array `a`\n",
    "            sorted_arr.append(b[j])\n",
    "            j += 1\n",
    "            continue \n",
    "        if j == m: # reached the end of array `b`\n",
    "            sorted_arr.append(a[i])\n",
    "            i += 1\n",
    "            continue \n",
    "\n",
    "        if a[i] < b[j]:\n",
    "            sorted_arr.append(a[i])\n",
    "            i += 1\n",
    "        else:\n",
    "            sorted_arr.append(b[j])\n",
    "            j += 1\n",
    "    return sorted_arr\n",
    "\n",
    "merge([1, 1, 6, 9, 10], [-1, 0, 4, 5, 10, 11, 12])"
   ]
  },
  {
   "cell_type": "markdown",
   "metadata": {},
   "source": [
    "Because $i$ moves from $0$ to $n-1$, and $j$ moves from $0$ to $m-1$, and each time, at least one of them gets moved, and on each step we only do a constant number of operations, the time-complexity is $\\mathcal{O}(n + m)$"
   ]
  },
  {
   "cell_type": "markdown",
   "metadata": {},
   "source": [
    "### The final algorithm"
   ]
  },
  {
   "cell_type": "markdown",
   "metadata": {},
   "source": [
    "Now, we will use the algorithm previously shown to sort a list.\n",
    "\n",
    "Suppose we want to sort a list $L$. Let's divide it into two halves ($A$ being the left half and $B$ being the right half).\n",
    "\n",
    "What if $A$ and $B$ were already sorted?\n",
    "- Then we could use the procedure previously explained to merge $A$ and $B$.\n",
    "\n",
    "What if $A$ and $B$ were not sorted?\n",
    "- Then we try to sort them, and then merge them with the algorithm previously seen.\n",
    "\n",
    "This leads us to a recursive solution:\n",
    "If we want to sort an array, we split it into two halves, recursively sort both halves, and then merge them. And then, for each of the halves, we do the same: we split them further, recursively sort the new halves, and then merge them."
   ]
  },
  {
   "cell_type": "code",
   "execution_count": 6,
   "metadata": {},
   "outputs": [
    {
     "data": {
      "text/plain": [
       "[1, 1, 2, 2, 3, 5, 9, 10]"
      ]
     },
     "execution_count": 6,
     "metadata": {},
     "output_type": "execute_result"
    }
   ],
   "source": [
    "def merge_sort(arr: list) -> list:\n",
    "    if len(arr) <= 1:\n",
    "        return arr \n",
    "\n",
    "    m = len(arr) // 2\n",
    "\n",
    "    left_half = merge_sort(arr[:m])\n",
    "    right_half = merge_sort(arr[m:])\n",
    "\n",
    "    return merge(left_half, right_half)\n",
    "\n",
    "merge_sort([3, 1, 5, 2, 9, 10, 1, 2])"
   ]
  },
  {
   "cell_type": "markdown",
   "metadata": {},
   "source": [
    "Let's try to analyze the tine complexity.\n",
    "The only parameter of the recursion is the array to be sorted. Each time that we go deeper into the recursion, the length of the array is halved. This means the depth is $\\mathcal{O}(\\log n)$. Now, merging two lists take linear time, therefore we're doing $\\mathcal{O}(n)$ operations on each level of recursion, and thus $\\mathcal{O}(n\\log n)$ in total. But this is rather informal.\n",
    "\n",
    "Here goes a more formal definition.\n",
    "Let $T(n)$ be the number of operations needed to sort a list of $n$ element by using `merge sort`.\n",
    "On the merge sort, we split on two arrays of length $\\frac{n}{2}$, and then merge them in $\\mathcal{O(n)}$.\n",
    "Then:\n",
    "\n",
    "$$\n",
    "\\begin{align}\n",
    "T(n) = 2T(n/2) + \\mathcal{O}(n)\\\\\n",
    "T(1) = O(1)\\\\\n",
    "\\end{align}\n",
    "$$\n",
    "\n",
    "By solving that recurrent equation (either by traditional methods or by applying Master theorem), we obtain $T(n) = \\mathcal{O}(n\\log n)$."
   ]
  },
  {
   "cell_type": "markdown",
   "metadata": {},
   "source": [
    "### Bonus assignment:\n",
    "\n",
    "Merge sort can be used to count the number of inversions of a list (refer to the definition on the **bubble sort** section).\n",
    "Explain what to add to merge sort, in order to compute them.\n",
    "Delive a code if possible."
   ]
  }
 ],
 "metadata": {
  "kernelspec": {
   "display_name": "Python 3.10.0",
   "language": "python",
   "name": "python3"
  },
  "language_info": {
   "codemirror_mode": {
    "name": "ipython",
    "version": 3
   },
   "file_extension": ".py",
   "mimetype": "text/x-python",
   "name": "python",
   "nbconvert_exporter": "python",
   "pygments_lexer": "ipython3",
   "version": "3.10.0"
  },
  "orig_nbformat": 4,
  "vscode": {
   "interpreter": {
    "hash": "2d20419c564893ff7827d87520a6c3b654e0969c6aa9ae3b46a277348f487f0d"
   }
  }
 },
 "nbformat": 4,
 "nbformat_minor": 2
}
