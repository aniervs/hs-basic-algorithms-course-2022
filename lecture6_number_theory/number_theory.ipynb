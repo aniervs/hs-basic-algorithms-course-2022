{
 "cells": [
  {
   "cell_type": "markdown",
   "metadata": {},
   "source": [
    "# Number Theory"
   ]
  },
  {
   "cell_type": "markdown",
   "metadata": {},
   "source": [
    "## Introduction"
   ]
  },
  {
   "cell_type": "markdown",
   "metadata": {},
   "source": [
    "Number theory emerged as a fun area of mathematics without practical applications during the 18th century. It wasn't until the invention of computers, that people found real applications.\n",
    "\n",
    "Nowadays, it's used in many cryptographic systems, in decentralized areas, such as blockchain, etc.\n",
    "\n",
    "In this course, we will only cover a few basic algorithms on number theory."
   ]
  },
  {
   "cell_type": "markdown",
   "metadata": {},
   "source": [
    "## Divisibility and divisors"
   ]
  },
  {
   "cell_type": "markdown",
   "metadata": {},
   "source": [
    "The notion of one integere being divisible by another is key to the theory of numbers. The notation $d \\ | \\ a$ (read \"d **divides** a\") means that $a = k d$ for some integer $k$. Every integer divides $0$. If $a > 0$ and $d | a$, then $|d| < |a|$. If $d | a$, then we also say that $a$ is a **multiple** of $d$. If $d$ doesn't divide $a$, we write $d \\nmid a$."
   ]
  },
  {
   "cell_type": "markdown",
   "metadata": {},
   "source": [
    "If we have a positive $d$ and $d \\ | \\ a$, we say that $d$ is a **divisor** of $a$. Note that $d$ is a divisor of $a$ iff $-d$ is a divisor of $a$, so that we can always talk in terms of positive divisors, and not lose generality.\n",
    "\n",
    "A divisor of a number $a, (a \\ne 0)$ is at least $1$ but not greater than $|a|$. For example, the divisors of $24$ are $1, 2, 3, 4, 6, 8, 12, 24$."
   ]
  },
  {
   "cell_type": "markdown",
   "metadata": {},
   "source": [
    "### Finding divisors."
   ]
  },
  {
   "cell_type": "markdown",
   "metadata": {},
   "source": [
    "Given some $n$, how to find its divisors."
   ]
  },
  {
   "cell_type": "markdown",
   "metadata": {},
   "source": [
    "#### Finding divisors of $n$ in $\\mathcal{O(n)}$ time.\n",
    "\n",
    "Well, the basic approach would be just iterating through the numbers from $1$ to $n$ checking if they divide $n$."
   ]
  },
  {
   "cell_type": "code",
   "execution_count": 7,
   "metadata": {},
   "outputs": [
    {
     "data": {
      "text/plain": [
       "[1, 2, 3, 4, 6, 8, 12, 24]"
      ]
     },
     "execution_count": 7,
     "metadata": {},
     "output_type": "execute_result"
    }
   ],
   "source": [
    "def compute_divisors(n: int) -> list[int]:\n",
    "    '''\n",
    "    returns a list with the divisors of n\n",
    "    '''\n",
    "\n",
    "    divisors = []\n",
    "    for i in range(1, n + 1):\n",
    "        if n % i == 0:\n",
    "            divisors.append(i)\n",
    "    return divisors\n",
    "\n",
    "compute_divisors(24)"
   ]
  },
  {
   "cell_type": "markdown",
   "metadata": {},
   "source": [
    "This solution clearly has $\\mathcal{O}(n)$ time complexity and $\\mathcal{O}(1)$ space complexity, because we go through every number from $1$ to $n$. But as we can guess, the number of divisors of $n$ is not of the same order as $n$. For example, $24$ has only $8$ divisors."
   ]
  },
  {
   "cell_type": "markdown",
   "metadata": {},
   "source": [
    "#### Bound on the number of divisors of $n$"
   ]
  },
  {
   "cell_type": "markdown",
   "metadata": {},
   "source": [
    "Now we'll try to find a bound on the number of divisors of $n$.\n",
    "\n",
    "\n",
    "If $a$ is a divisor of $n$, then there exists a unique $b$ such that $a \\cdot b = n$. That means that the divisors always come in pairs $(a, b)$, and we can assume that $a \\le b$.\n",
    "\n",
    "Now here comes a very important lemma:\n",
    "\n",
    "\n",
    "**Lemma:**\n",
    "\n",
    "If $1 \\le a \\le b \\le n$ and $a \\cdot b = n$, then:\n",
    "- $a \\le \\sqrt{n}$\n",
    "- $b \\ge \\sqrt{n}$\n",
    "\n",
    "**Proof:**\n",
    "- Suppose $a > \\sqrt{n}$. Then, because $a \\le b$, it's hold that $b > \\sqrt{n}$. Therefore, $a \\cdot b > \\sqrt{n} \\sqrt{n} \\implies a \\cdot b > n$, which is contradiction, because we had that $a \\cdot b = n$. This proves that $a \\le \\sqrt{n}$.\n",
    "- On other hand, suppose $b < \\sqrt{n}$. Then, because $a \\le b$, it's hold that $a < \\sqrt{n}$. Therefore, $a \\cdot b < \\sqrt{n} \\sqrt{n} \\implies a \\cdot b < n$, which is also a contradiction. This proves that $b \\ge \\sqrt{n}$.\n",
    "\n",
    "QED.\n",
    "\n",
    "\n",
    "We can use that lemma to give a bound on the numer of divisors of $n$. Because the divisors come in pairs $(a, b)$ where $a \\le \\sqrt{n}$, that means that $n$ has at most $2\\sqrt{n}$ divisors, which means that **the number of divisors of $n$ is bounded by $\\mathcal{O}(\\sqrt{n})$.**\n"
   ]
  },
  {
   "cell_type": "markdown",
   "metadata": {},
   "source": [
    "#### Finding divisors of $n$ in $\\mathcal{O}(\\sqrt{n})$ time."
   ]
  },
  {
   "cell_type": "markdown",
   "metadata": {},
   "source": [
    "\n",
    "So, we see that the number of divisors of $n$ is much lower than $n$.\n",
    "\n",
    "Can we do an algorithm that performs better than $\\mathcal{O}(n)$?\n",
    "\n",
    "Of course we can! We can try every $a \\in [1, \\sqrt{n}]$ and for each one compute the corresponding $b$."
   ]
  },
  {
   "cell_type": "code",
   "execution_count": 8,
   "metadata": {},
   "outputs": [
    {
     "data": {
      "text/plain": [
       "[1, 24, 2, 12, 3, 8, 4, 6]"
      ]
     },
     "execution_count": 8,
     "metadata": {},
     "output_type": "execute_result"
    }
   ],
   "source": [
    "def compute_divisors(n: int) -> list[int]:\n",
    "    '''\n",
    "    returns a list with the divisors of n\n",
    "    complexity: O(\\sqrt{n})\n",
    "    '''\n",
    "\n",
    "    divisors = []\n",
    "    a = 1\n",
    "    while a * a <= n: # iterating a from 1 to sqrt(n)\n",
    "        if n % a == 0:\n",
    "            divisors.append(a)\n",
    "            if a * a != n:\n",
    "                b = n // a\n",
    "                divisors.append(b)\n",
    "\n",
    "        a += 1\n",
    "\n",
    "    return divisors\n",
    "\n",
    "compute_divisors(24)"
   ]
  },
  {
   "cell_type": "markdown",
   "metadata": {},
   "source": [
    "#### Finding the divisors of all numbers from $1$ to $n$"
   ]
  },
  {
   "cell_type": "markdown",
   "metadata": {},
   "source": [
    "What if we want to find the divisors of every number from $1$ to $n$?\n",
    "\n",
    "We can use the previous algorithm with every number from $1$ to $n$, and it would take $\\mathcal{n \\sqrt{n}}$ time, but we can actually do better."
   ]
  },
  {
   "cell_type": "markdown",
   "metadata": {},
   "source": [
    "The problem with that algorithm is that for every $m \\in [1, n]$ it is trying to check if each number $a$ from $1$ to $m$ is a divisor of $m$. It tries $\\mathcal{n \\sqrt{n}}$ pairs $(a, m)$ checking if $a \\ | \\ m$.\n",
    "\n",
    "We can do it the other way around. For every $a$, iterate through every multiple $m$ of $a$. That way we're not gonna try any useless pair, so it would be better (we'll see later how much better)."
   ]
  },
  {
   "cell_type": "code",
   "execution_count": 6,
   "metadata": {},
   "outputs": [
    {
     "name": "stdout",
     "output_type": "stream",
     "text": [
      "Divisors of 1: [1]\n",
      "Divisors of 2: [1, 2]\n",
      "Divisors of 3: [1, 3]\n",
      "Divisors of 4: [1, 2, 4]\n",
      "Divisors of 5: [1, 5]\n",
      "Divisors of 6: [1, 2, 3, 6]\n",
      "Divisors of 7: [1, 7]\n",
      "Divisors of 8: [1, 2, 4, 8]\n",
      "Divisors of 9: [1, 3, 9]\n",
      "Divisors of 10: [1, 2, 5, 10]\n",
      "Divisors of 11: [1, 11]\n",
      "Divisors of 12: [1, 2, 3, 4, 6, 12]\n",
      "Divisors of 13: [1, 13]\n",
      "Divisors of 14: [1, 2, 7, 14]\n",
      "Divisors of 15: [1, 3, 5, 15]\n",
      "Divisors of 16: [1, 2, 4, 8, 16]\n",
      "Divisors of 17: [1, 17]\n",
      "Divisors of 18: [1, 2, 3, 6, 9, 18]\n",
      "Divisors of 19: [1, 19]\n",
      "Divisors of 20: [1, 2, 4, 5, 10, 20]\n"
     ]
    }
   ],
   "source": [
    "n = 20\n",
    "divisors = [[] for _ in range(n + 1)] # divisors[x] contains a list with all the divisors of x\n",
    "\n",
    "for i in range(1, n + 1):\n",
    "    for j in range(i, n + 1, i): # j iterates through all multiples of i\n",
    "        divisors[j].append(i)\n",
    "\n",
    "for i in range(1, n + 1):\n",
    "    print(f\"Divisors of {i}: {divisors[i]}\")"
   ]
  },
  {
   "cell_type": "markdown",
   "metadata": {},
   "source": [
    "Let's try to analyze the time complexity of this algorithm.\n",
    "\n",
    "For every $i$, we're iterating through $\\lfloor\\frac{n}{i}\\rfloor$ values: $i, 2\\cdot i, 3\\cdot i, 4\\cdot i, \\dots$.\n",
    "Therefore, the number of operations is:\n",
    "\n",
    "$$\\mathcal{O}(\\left\\lfloor\\frac{n}{1}\\right\\rfloor + \\left\\lfloor\\frac{n}{2}\\right\\rfloor + \\left\\lfloor\\frac{n}{3}\\right\\rfloor + \\dots + \\left\\lfloor\\frac{n}{n}\\right\\rfloor) < \\mathcal{O}\\left(n \\cdot \\left(\\frac{1}{1} + \\frac{1}{2} + \\dots + \\frac{1}{n} \\right)\\right) = \\mathcal{O}(n\\ln n)$$\n",
    "\n",
    "\n"
   ]
  },
  {
   "cell_type": "markdown",
   "metadata": {},
   "source": [
    "So, that means that the sum of the number of divisors of every number from $1$ to $n$ is bounded by $\\mathcal{O}(n \\ln n)$, and that's the exact time and space complexity of the algorithm."
   ]
  },
  {
   "cell_type": "markdown",
   "metadata": {},
   "source": [
    "## Prime Numbers"
   ]
  },
  {
   "cell_type": "markdown",
   "metadata": {},
   "source": [
    "An integer $a > 1$ whose only divisors are $1$ and $a$ is a **prime number**, or more simply, a **prime**. Primes have many special properties and play a critical role in number theory. The first 20 primes, in order, are:\n",
    "\n",
    "2, 3, 5, 7, 11, 13, 17, 23, 29, 31, 37, 41, 43, 47, 53, 59, 61, 67, 71\n",
    "\n",
    "*There's an infinite amount of primes.*\n",
    "\n",
    "An integer $a > 1$ that is not prime is a **composite number**, or, more simply, a **composite**. For example, $39$ is composite because $3 \\ | \\ 39$. We call the integer $1$ a unit, and it's neither prime nor composite."
   ]
  },
  {
   "cell_type": "markdown",
   "metadata": {},
   "source": [
    "### Checking if a number is prime or not"
   ]
  },
  {
   "cell_type": "markdown",
   "metadata": {},
   "source": [
    "Because a prime is a positive integer with exactly 2 divisors, we can just compute all the divisors and then check that we only have two"
   ]
  },
  {
   "cell_type": "code",
   "execution_count": 9,
   "metadata": {},
   "outputs": [
    {
     "name": "stdout",
     "output_type": "stream",
     "text": [
      "[2, 3, 5, 7, 11, 13, 17, 19]\n"
     ]
    }
   ],
   "source": [
    "def is_prime(n: int):\n",
    "    '''\n",
    "    checks if `n` is prime\n",
    "    '''\n",
    "\n",
    "    divisors = compute_divisors(n)\n",
    "    if len(divisors) == 2:\n",
    "        return True\n",
    "    return False \n",
    "\n",
    "print([i for i in range(20) if is_prime(i)]) "
   ]
  },
  {
   "cell_type": "markdown",
   "metadata": {},
   "source": [
    "We can do it a bit better, by just stopping the first time that we find a divisor after $1$. The complexity would still be $\\mathcal{O}(\\sqrt{n})$"
   ]
  },
  {
   "cell_type": "code",
   "execution_count": 11,
   "metadata": {},
   "outputs": [
    {
     "name": "stdout",
     "output_type": "stream",
     "text": [
      "[2, 3, 5, 7, 11, 13, 17, 19]\n"
     ]
    }
   ],
   "source": [
    "def is_prime(n: int):\n",
    "    '''\n",
    "    checks if `n` is prime\n",
    "    '''\n",
    "\n",
    "    if n < 2:\n",
    "        return False \n",
    "        \n",
    "    a = 2\n",
    "    while a * a <= n:\n",
    "        if n % a == 0:\n",
    "            return False \n",
    "        a += 1\n",
    "    return True \n",
    "\n",
    "print([i for i in range(20) if is_prime(i)]) "
   ]
  },
  {
   "cell_type": "markdown",
   "metadata": {},
   "source": [
    "### Finding all primes until $n$."
   ]
  },
  {
   "cell_type": "markdown",
   "metadata": {},
   "source": [
    "The first approach would be to iterate through every number from $1$ to $n$, and check for each of them, if it's prime or not by checking its divisors.\n",
    "\n",
    "Similarly to when we were dealing with the divisors of all numbers up to $n$, we can do better.\n",
    "For every number $a > 1$, we can iterate through the multiples of $a$ that are greater than $a$, and then mark them as composites, because they are **multiples of smaller numbers greater than 1**."
   ]
  },
  {
   "cell_type": "markdown",
   "metadata": {},
   "source": [
    "This is a very old Greek Algorithm called Erathostenes' Sieve.\n",
    "It starts with all the numbers from $2$ to $n$, (considering them primes initially), and it goes in order, and for every number that it finds, it deletes all its multiples, and at the end only the primes will remain.\n",
    "\n",
    "https://en.wikipedia.org/wiki/Sieve_of_Eratosthenes"
   ]
  },
  {
   "cell_type": "code",
   "execution_count": 12,
   "metadata": {},
   "outputs": [
    {
     "data": {
      "text/plain": [
       "[2, 3, 5, 7, 11, 13, 17, 19]"
      ]
     },
     "execution_count": 12,
     "metadata": {},
     "output_type": "execute_result"
    }
   ],
   "source": [
    "def sieve(n: int):\n",
    "    is_prime = [True for _ in range(n + 1)]\n",
    "    is_prime[0], is_prime[1] = False, False \n",
    "\n",
    "    for i in range(2, n + 1):\n",
    "        if is_prime[i]:\n",
    "            for j in range(i * i, n + 1, i):\n",
    "                is_prime[j] = False \n",
    "\n",
    "    return [i for i in range(n + 1) if is_prime[i]]\n",
    "\n",
    "sieve(20)"
   ]
  },
  {
   "cell_type": "markdown",
   "metadata": {},
   "source": [
    "Let's analyze its complexity.\n",
    "\n",
    "For every $i$ in the first loop, we're iterating through its multiples on the inner loop. Thus, we can assume that the complexity is $\\mathcal{O}(n\\ln n)$.\n",
    "\n",
    "But notice that we only execute the inner loop, when $i$ is prime. Thus, it's more efficient, and indeed there's a better bound.\n",
    "\n",
    "Due to the [sum of the reciprocal of primes](https://en.wikipedia.org/wiki/Divergence_of_the_sum_of_the_reciprocals_of_the_primes), a better bound is $\\mathcal{O}(n\\log\\log n)$."
   ]
  },
  {
   "cell_type": "markdown",
   "metadata": {},
   "source": [
    "## Factorization (TO BE ADDED SOON...) but not included in the course"
   ]
  },
  {
   "cell_type": "markdown",
   "metadata": {},
   "source": [
    "## Modular arithmetic"
   ]
  },
  {
   "cell_type": "markdown",
   "metadata": {},
   "source": [
    "Given an integer $n$, we can partition the integers into those that are multiples of $n$ and those that are not multiples of $n$. Much number theory is based upon refining this partition by classifying the nonmultiples of $n$ according to their remainders when divided by $n$."
   ]
  },
  {
   "cell_type": "markdown",
   "metadata": {},
   "source": [
    "**Division theorem**\n",
    "\n",
    "For any integer $a$, and any positive integer $n$, there exist unique integers $q$ and $r$ such that $0 \\le r < n$ and $a = q n + r$."
   ]
  },
  {
   "cell_type": "markdown",
   "metadata": {},
   "source": [
    "The value $q = \\left\\lfloor\\frac{a}{n}\\right\\rfloor$ is the **quotient** of the division. The value $r = a \\% n$ is the remainder of the division. \n",
    "\n",
    "As an example, for $a = 15$ and $n = 4$, we obtain $q = 3$ and $r = 3$, because $15 = 3\\cdot 4 + 3$."
   ]
  },
  {
   "cell_type": "markdown",
   "metadata": {},
   "source": [
    "We can partition the integers into $n$ *equivalence classes* according to their remainders modulo $n$. The **equivalence class modulo $n$** containing an integer $a$ is the set of all numbers expressable by $a + nk : k\\in \\Z$.\n",
    "\n",
    "For example, given $n = 7$, the equivalence class containing $3$ is the set $\\{\\dots, -11, -4, 3, 10, 10, 17, \\dots\\}$. Saying that two numbers $a$ and $b$ belong to the same class **modulo n** is the same as saying that `a % n == b \n",
    "% m`, or mathematically $a \\equiv b\\ (mod\\  n)$.\n",
    "\n",
    "This means that we can substitute them whenever we're doing operations under some **modulo n**. So, $-1 \\equiv n-1 \\ (mod\\ n)$, $0 \\equiv n \\ (mod\\ n)$ and so on.."
   ]
  },
  {
   "cell_type": "markdown",
   "metadata": {},
   "source": [
    "The great thing about equivalence classes modulo $n$ is that most arithmetic operations are preserved.\n",
    "\n",
    "If $a \\% m = r_a$, and $b \\% m = r_b$, then:\n",
    "- $(a + b) \\% m = (r_a + r_b) \\% m$\n",
    "- $(a \\cdot b) \\% m = (r_a \\cdot r_b) \\% m$\n",
    "- $(a - b) \\% m = (r_a - r_b + m) \\% m$\n",
    "- $a^n\\ \\% \\ m = (r_a\\ \\% \\ m)^n\\ \\% m$\n",
    "\n",
    "\n",
    "Notice that it's not hold with the division. Division is something harder, and we'll explain it a bit later."
   ]
  },
  {
   "cell_type": "markdown",
   "metadata": {},
   "source": [
    "### Binary exponentiation:"
   ]
  },
  {
   "cell_type": "markdown",
   "metadata": {},
   "source": [
    "Problem:\n",
    "\n",
    "Given $a$ and $n$, compute $a^n\\ \\%\\  m$, where $m = 10^9 + 7$ (which is a prime). And well, $a, n \\le 10^9$."
   ]
  },
  {
   "cell_type": "markdown",
   "metadata": {},
   "source": [
    "The first solution would be something like:\n",
    "```Python\n",
    "mod = 10**9 + 7\n",
    "def power(a, n):\n",
    "    result = 1\n",
    "    for _ in range(n):\n",
    "        result = (result * a) % mod\n",
    "    return result\n",
    "```\n",
    "\n",
    "But this clearly takes linear time w.r.t. $n$, and $n$ is quite big.\n",
    "\n",
    "We can do better.\n",
    "\n",
    "Notice that $a^{2n} = a^{n} \\cdot a^{n}$. Then, we can do a recursive algorithm:\n",
    "\n",
    "$$\n",
    "a^n = \\begin{cases}\n",
    "1 \\iff n = 0\\\\\n",
    "(a \\cdot a)^{n/2} \\iff 2 \\ | \\ n\\\\\n",
    "a^{n-1} \\cdot a \\iff 2\\ \\nmid n\n",
    "\\end{cases}\n",
    "$$"
   ]
  },
  {
   "cell_type": "code",
   "execution_count": 14,
   "metadata": {},
   "outputs": [
    {
     "data": {
      "text/plain": [
       "243"
      ]
     },
     "execution_count": 14,
     "metadata": {},
     "output_type": "execute_result"
    }
   ],
   "source": [
    "mod = 10**9 + 7\n",
    "def quick_power(a: int, n: int):\n",
    "    if n == 0:\n",
    "        return 1\n",
    "    if n % 2 == 0:\n",
    "        return quick_power(a * a % mod , n // 2)\n",
    "    return a * quick_power(a, n - 1) % mod \n",
    "\n",
    "quick_power(3, 5)"
   ]
  },
  {
   "cell_type": "markdown",
   "metadata": {},
   "source": [
    "Because we go dividing $n$ by two, the time complexity is $\\mathcal{O}(\\log n)$."
   ]
  },
  {
   "cell_type": "markdown",
   "metadata": {},
   "source": [
    "### What's the problem with division"
   ]
  },
  {
   "cell_type": "markdown",
   "metadata": {},
   "source": [
    "As we said, the rules of arithmetic operations under modulo $n$ do not apply to division.\n",
    "\n",
    "As an example, consider $mod = 5$, and we're trying to divide $30/15 = 3 \\equiv 3\\ (mod\\ 5)$. If we naively apply the `%` operator on both numerator and denominator, we get $0/0$ which is impossible to compute.\n",
    "\n",
    "Moreoever, if we have $1/3 \\mod \\ \\ 5$, what does it mean?\n",
    "\n",
    "Here comes a concept called multiplicative inverse.\n",
    "Given a number $x$, we want to find a number $y$ such that $x \\cdot y \\equiv 1 \\mod 5$. Due to this definition, we denote $y$ as $x^{-1}$.\n",
    "\n",
    "Well, this number doesn't always exist. In fact, it only exists if the greates common divisor of $x$ and the $modulo$ is $1$.\n",
    "\n",
    "*The multiplicative inverse of $x$ modulo $n$ exists if and only if $\\gcd(x, n) = 1$. And if it does, it's unique under modulo $n$*.\n",
    "\n",
    "We won't prove it though.\n",
    "\n",
    "As an example, the inverse of $3$ modulo $5$ is $2$, because $3 \\cdot 2 = 6 \\equiv 1 \\mod 5$.\n",
    "But we can't find an inverse of $12$ modulo $15$, because they share $3$ as a commond divisor."
   ]
  },
  {
   "cell_type": "markdown",
   "metadata": {},
   "source": [
    "Ok, we know how to check for the existence. Now, how to find it. And just for simplicity, let's consider the case where the modulo $n$ is prime.\n",
    "\n",
    "There's a theorem called *Fermat's little theorem* that says that if $p$ is a prime number and $a$ is any integer, then $a^p \\equiv a \\mod p$, or in other words, if $a$ is has no common divisors with $p$ rather than 1, then $a^{p-1} \\equiv 1 \\mod p$.\n",
    "\n",
    "Then, $a^{p-1} = a^{p-2} \\cdot a \\equiv 1 \\mod p$, which means that the multiplicative inverse of $a$ modulo $p$ is $a^{p-2}$.\n",
    "\n",
    "And that's how we find it, if $\\gcd(a, m) \\ne 1$, then there's no inverse of $a$. Otherwise, if $m$ is prime, the inverse of $a$ is $a^{m-2}$, and we can find it by using the `quick_power` method."
   ]
  }
 ],
 "metadata": {
  "kernelspec": {
   "display_name": "Python 3.10.0 ('ds')",
   "language": "python",
   "name": "python3"
  },
  "language_info": {
   "codemirror_mode": {
    "name": "ipython",
    "version": 3
   },
   "file_extension": ".py",
   "mimetype": "text/x-python",
   "name": "python",
   "nbconvert_exporter": "python",
   "pygments_lexer": "ipython3",
   "version": "3.10.0"
  },
  "orig_nbformat": 4,
  "vscode": {
   "interpreter": {
    "hash": "7b5a7c82a2d96a649e8ee0ca6eae019d05cad0427e100720215ef8977d0d79c2"
   }
  }
 },
 "nbformat": 4,
 "nbformat_minor": 2
}
