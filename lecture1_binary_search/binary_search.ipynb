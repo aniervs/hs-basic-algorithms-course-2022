{
 "cells": [
  {
   "cell_type": "markdown",
   "metadata": {},
   "source": [
    "# Binary Search"
   ]
  },
  {
   "cell_type": "markdown",
   "metadata": {},
   "source": [
    "## Introduction\n",
    "\n",
    "Binary search is a standard technique, and it helps to solve multiple problems. It can be very powerful, if it's combined with other techniques.\n",
    "\n",
    "Let's introduce it by presenting a real life situation:\n",
    "\n",
    "We're in a library, and we are trying to find a book in a specific row of a shelf, and we know the books are **sorted alphabetically**.\n",
    "Instead of going from left to right (or from right to left), what we usually do is to pick some book from the middle, and check whether it's to the left or to the right of the book that we're searching.  Because the books are sorted alphabetically, we can discard one half of the list of books, and continue doing the same process with the remaining half, and so on until we have only one book."
   ]
  },
  {
   "cell_type": "markdown",
   "metadata": {},
   "source": [
    "Formally, the problem is: Given a sorted array, find a certain value $x$ on it.\n",
    "And our algorithm is: pick the middle of the array, and if the picked valued is greater than $x$, move to the left half, otherwise move to the right half.\n"
   ]
  },
  {
   "cell_type": "markdown",
   "metadata": {},
   "source": [
    "Clearly, the number of steps is much less than doing a simple linear search (i.e.: going from left to right until we find the desired element). But for how much?\n",
    "\n",
    "Well, if the array has length $1024$, in the first step we discard $512$ elements and we're left with $512$. In the second step we discard $256$ and we're left with $256$ elements. In the 3rd step we discard $128$ elements, and after the 4th step we're left with $64$ elements, and after the 5th step, we're left with $32$ elements, and after the 6th step with $16$, and $8$ after the 7th step, and $4$ after the 8th step, and $2$ after the 9th step, and finally a single element after the 10th steps. So, it took only 10 steps to find a number in a list of $1000$ elements."
   ]
  },
  {
   "cell_type": "markdown",
   "metadata": {},
   "source": [
    "Formally speaking, the time-complexity of this algorithm is $\\mathcal{O}(\\log n)$, which, lossely speaking, means that the number of operations grows very slowly with respect to $n$.\n"
   ]
  },
  {
   "cell_type": "markdown",
   "metadata": {},
   "source": [
    "### Sample code"
   ]
  },
  {
   "cell_type": "code",
   "execution_count": null,
   "metadata": {},
   "outputs": [],
   "source": [
    "arr = list(map(int, input().split()))\n",
    "n = len(arr)\n",
    "\n",
    "l, r = 0, n - 1\n",
    "while l < r:\n",
    "    mid = (l + r)//2\n",
    "    if a[mid] < x:\n",
    "        l = mid + 1\n",
    "    else:\n",
    "        r = mid \n",
    "\n",
    "if arr[l] == x:\n",
    "    print(x, \"exists\")\n",
    "else:\n",
    "    print(x, \"does not exist\")"
   ]
  },
  {
   "cell_type": "markdown",
   "metadata": {},
   "source": [
    "Notice that, even if the number is not present in the list, the search stills converges to certain element. Due to this specific implementation, this code finds the first position with an element greater than or equal to $x$. Then we just ask if this number is exactly equal to $x$. This is convenient, because it helps to optimize functions, but more on that later."
   ]
  },
  {
   "cell_type": "markdown",
   "metadata": {},
   "source": [
    "And if we can find bounds, then we can count numbers in a range. For example, if we want to count the amount of numbers that are greater than or equal to $5$, and less than or equal to $10$, we can find the first position with an element that is greater than or equal to $5$ (let's call it $l$), and also the first position with an element strictly greater than $10$ (let's call it $r$), and then the number of values between $5$ and $10$ is $r - l$."
   ]
  },
  {
   "cell_type": "markdown",
   "metadata": {},
   "source": [
    "## Binary Search: The final recipe "
   ]
  },
  {
   "cell_type": "markdown",
   "metadata": {},
   "source": [
    "Generally speaking, if we have some predicate $P: \\mathbb{R} \\rightarrow \\{0, 1\\}$ holding that $P(x) \\implies P(y)\\ \\forall y > x$, then we can use the binary search to find the first $x$ such that $P(x) = 1$.\n",
    "\n",
    "Ok. What does this mean?\n",
    "If we have a boolean sequence (true and false values), that consist of a prefix of `False` values and then a suffix of `True` values, then we can use binary search to find the first time the sequence is `True`.\n"
   ]
  },
  {
   "cell_type": "markdown",
   "metadata": {},
   "source": [
    "`False False False False False True True True True True True True True`"
   ]
  },
  {
   "cell_type": "markdown",
   "metadata": {},
   "source": [
    "And thus, we can use this template code in every binary search"
   ]
  },
  {
   "cell_type": "code",
   "execution_count": null,
   "metadata": {},
   "outputs": [],
   "source": [
    "def binary_search(left, right):\n",
    "    '''\n",
    "    - left and right are the bounds of the invertal where the search is done\n",
    "    - we have a sequence of False and True values, where there's a prefix of just False values\n",
    "        and afterwards it's just True values\n",
    "                F F F F T T T T\n",
    "    - we assumption P(right) == True\n",
    "    - we find the first True\n",
    "    '''\n",
    "\n",
    "    if property(left) == True:\n",
    "        return left\n",
    "    \n",
    "    # From here, we'll keep invariant that Property(Left) == False and Property(Right) == True\n",
    "    # Then, the search converges until a range [x, x + 1] where Property(x) == False and Property(x + 1) == True\n",
    "    # Thus, we have the last False and the first True\n",
    "    \n",
    "    while right - left > 1:\n",
    "        mid = (l + r) // 2\n",
    "        if property(mid) == False:\n",
    "            left = mid\n",
    "        else:\n",
    "            right = mid\n",
    "\n",
    "    # After the search:\n",
    "    # - left is the last position with a False\n",
    "    # - right is the first position with a True\n",
    "    \n",
    "    return right\n",
    "\n"
   ]
  },
  {
   "cell_type": "markdown",
   "metadata": {},
   "source": [
    "Notice that the same is applicable if the sequence consists of a prefix of `True` values and then a suffix of `False` values."
   ]
  },
  {
   "cell_type": "markdown",
   "metadata": {},
   "source": [
    "## Examples"
   ]
  },
  {
   "cell_type": "markdown",
   "metadata": {},
   "source": [
    "### Is it a perfect square?"
   ]
  },
  {
   "cell_type": "markdown",
   "metadata": {},
   "source": [
    "Given some integer $x$, say if it is a perfect square or not, without using any built-in `sqrt` or powering function/operator.\n",
    "\n",
    "**Hint:** Consider the sequences of squares ($0^2, 1^2, 2^2, 3^2, \\dots$). \n",
    "Consider in particular $k = \\lfloor\\sqrt x\\rfloor$ (the squared root of $x$ rounded down to the nearest integer). Then every number $d \\le k$ holds that $d^2 \\le x$, and every $d > k$ holds that $d^2 > x$.\n",
    "\n",
    "Then, we can use as property: $P(t) = \\begin{cases} 1 \\iff t^2 \\le x\\\\0 \\iff t^2 > x\\end{cases}$\n",
    "\n",
    "Clearly, this property holds what we want in order to use binary search."
   ]
  },
  {
   "cell_type": "markdown",
   "metadata": {},
   "source": [
    "### Rotated Sorted array\n",
    "\n",
    "There was a sorted array, and somebody rotated it, cut a prefix and appended it to the end. Find the smallest element.\n",
    "\n",
    "For ```6 7 9 15 19 2 3``` the answer is `2`.\n",
    "\n",
    "For ```90 5 9 15 19 50 80``` the answer is `5`.\n",
    "\n",
    "**Hint:** Let's $p$ the position where the minimum value is. We can notice that the suffix starting at $p$ is increasing, and the prefix finishing at $p-1$ is also increasing, and also the first element of the sequence is smaller than the last element of the sequence. Then, every number after $p$ is clearly smaller than the last element of the sequence, and every number before $p$ is clearly greater than the last element of the sequence."
   ]
  },
  {
   "cell_type": "markdown",
   "metadata": {},
   "source": [
    "### Find the peak\n",
    "\n",
    "There's an array that increases and then decreases: Find the maximum value of the array. For the array ``` 2 3 4 6 9 12 11 8 6 4 1``` the answer is `12`.\n",
    "\n",
    "**Hint:** Let's denote the position where the peak is as $p$. Every position $i < p$ holds that $A_i < A_{i + 1}$, and every position $i \\ge p $holds that $A_i \\ge A_{i + 1}$."
   ]
  },
  {
   "cell_type": "markdown",
   "metadata": {},
   "source": [
    "## Binary search over real numbers"
   ]
  },
  {
   "cell_type": "markdown",
   "metadata": {},
   "source": [
    "Sometimes, we want to do binary search not over discrete values, but over continuous values, such as real numbers."
   ]
  },
  {
   "cell_type": "markdown",
   "metadata": {},
   "source": [
    "### Finding the square root of a real number\n",
    "As an example, consider the following problem:\n",
    "\n",
    "Given some real number $t$, find the squared root of $t$. Your answer is considered correctly if is at most $\\epsilon = 10^{-9}$ away from the real answer.\n"
   ]
  },
  {
   "cell_type": "markdown",
   "metadata": {},
   "source": [
    "Clearly, the function $x^2$ is increasing for $x > 0$. Therefore it makes sense to use binary search to find that first $x$ such that $x^2 \\ge t$. Clearly, $x = \\sqrt{t}$, which is what we want to find.\n",
    "\n",
    "Instead of stopping when the search range is of length 1, we stop when the length of the search range is less than $\\epsilon$ (the precision of the answer), because it means that any value in that final range will be close enough to the real answer. "
   ]
  },
  {
   "cell_type": "code",
   "execution_count": null,
   "metadata": {},
   "outputs": [],
   "source": [
    "def find_square_root(x: float) -> float:\n",
    "    l, r = 0, x\n",
    "    EPS = 10**-9\n",
    "\n",
    "    while r - l > EPS:\n",
    "        mid = (l + r) / 2 # Notice that we are dividing by two, but not rounding to the closest integer from below, so that we deal with float numbers\n",
    "        if mid * mid < x:\n",
    "            l = mid\n",
    "        else:\n",
    "            r = mid\n",
    "\n",
    "    return (l + r)/2 # at this point, we can return any value in [l, r]"
   ]
  },
  {
   "cell_type": "markdown",
   "metadata": {},
   "source": [
    "### Finding roots of continuous functions"
   ]
  },
  {
   "cell_type": "markdown",
   "metadata": {},
   "source": [
    "There's a continuous function $f(x)$. Given some $a, b: a \\le b$, it holds that $f(a) < 0$ and $f(b) > 0$. \n",
    "\n",
    "Then, by the *Mean Value Theorem*, there exists some $c \\in (a, b): f(c) = 0$.\n",
    "\n",
    "We can use Binary Search to find one of those roots. We pick the middle of the range $[a, b]$, (let's call it $x$).\n",
    "\n",
    "- If $f(x) > 0$, then there exists a root in the range $[a, x]$.\n",
    "- If $f(x) \\le 0$, then there exists a root in the range $[x, b]$ \n",
    "\n",
    "We can continue doing so, until the length of the interval where we're looking is small enough (less thatn the requested precision), because in such case, any number between $l$ and $r$ is close enough to the real answer."
   ]
  },
  {
   "cell_type": "markdown",
   "metadata": {},
   "source": [
    "## Bonus problem I"
   ]
  },
  {
   "cell_type": "markdown",
   "metadata": {},
   "source": [
    "There are $n$ ships. The $i$-th ship is in the position $x_i$ and has constant velocity $v_i > 0$. We need to say the first time in which a ship intersects with another one.\n",
    "\n",
    "\n",
    "**Hint**: Let's say $P(t)$ is `True` if there is an intersection withint the first $t$ units of time, and `False` otherwise. Then, it's obvious that $P(t) \\implies P(t + 1)$. Then we can use binary search over the time. So, given certain point in time $t$, we need to see if there was an intersection at any point before $t$. Because the ships are moving at a constant speed, once a ship intersects another one, they won't intersect again. Because the ships move with positive velocity, the only way a ship $A$ intersect another ship $B$ is if $A$ is located before $B$ and $A$ has higher speed. The position of the ship $i$ at time $t$ is $y_i(t) = x_i + v_i \\cdot t$. During the binary search, we go asking for certain points in time, and for each of them, we need to check if the ships intersected, and this means if they changed their relative order; therefore, we can just sort all ships according to their positions in the current time, and check if their order changed.\n"
   ]
  },
  {
   "cell_type": "markdown",
   "metadata": {},
   "source": [
    "## Bonus problem II (requires recursion + some basic calculus)"
   ]
  },
  {
   "cell_type": "markdown",
   "metadata": {},
   "source": [
    "Given a polynomial $P: \\mathbb{R} \\rightarrow \\mathbb{R}$ of degree $n$ ($n$ is relatively small), and coefficients between -100 and 100, find the value $x$ that minimizes $P(x)$.\n",
    "\n",
    "**Hint**: Derivatives, Recursion, Binary Search."
   ]
  }
 ],
 "metadata": {
  "language_info": {
   "name": "python"
  },
  "orig_nbformat": 4
 },
 "nbformat": 4,
 "nbformat_minor": 2
}
