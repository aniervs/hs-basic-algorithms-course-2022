{
 "cells": [
  {
   "cell_type": "markdown",
   "metadata": {},
   "source": [
    "# Computational Complexity"
   ]
  },
  {
   "cell_type": "markdown",
   "metadata": {},
   "source": [
    "## Introduction"
   ]
  },
  {
   "cell_type": "markdown",
   "metadata": {},
   "source": [
    "\n",
    "To get started, let's take a look at the following code. How long will it take to run?"
   ]
  },
  {
   "cell_type": "code",
   "execution_count": null,
   "metadata": {},
   "outputs": [],
   "source": [
    "def find_element(array, x):\n",
    "    for i, y in enumerate(array):\n",
    "        if x == y:\n",
    "            return i\n",
    "\n",
    "    return -1"
   ]
  },
  {
   "cell_type": "markdown",
   "metadata": {},
   "source": [
    "\n",
    "More precisely, how long will it take to run in the worst-case scenario?\n",
    "\n",
    "This code will run slower if:\n",
    "- your computer is old,\n",
    "- the array is longer, or\n",
    "- $x$ happens to be closer to the end of the array, or not present at all."
   ]
  },
  {
   "cell_type": "markdown",
   "metadata": {},
   "source": [
    "\n",
    "How can we formalize these insights? We'll have to get rid of ambiguous stuff like \"old computers\".\n",
    "\n",
    "1. First, let's consider an abstract computer in which all \"atomic\" operations take exactly $1$ unit of time. Defining exactly what's an \"atomic\" operation is not trivial. For now, let's assume it's things like arithmetics operations, indexing in a list, and invocating functions.\n",
    "\n",
    "2. Second, we'll count the number of operations *with respect to* the size of an arbitrary array, We'll say something like \"This will cost 2 units of time per each element of the array.\"\n",
    "\n",
    "3. And Finally, we'll consider the worst-case scenario. So we assume, in this example, that the element $x$ is not in the array. More generally, we will always think about the maximum number of operations that our algorithm could potentially perform.\n",
    "\n",
    "With these ideas in mind, we are ready to define the *algorithmic complexity* for this code.\n",
    "Let's count how many operations are performed in each step, while assuming our array has length $n$."
   ]
  },
  {
   "cell_type": "code",
   "execution_count": null,
   "metadata": {},
   "outputs": [],
   "source": [
    "def find_element(array, x):\n",
    "    # performed n times\n",
    "    for i, y in enumerate(array): # +1 invocation for interating to the next element\n",
    "                                  # +1 tuple deconstruction\n",
    "        if x == y:                # +1 comparison\n",
    "            return i              # +1 return\n",
    "\n",
    "    return -1                     # +1 return"
   ]
  },
  {
   "cell_type": "markdown",
   "metadata": {},
   "source": [
    "Depending on how detailed we would like to be, we could say that we have around $4n + 1$ operations in the worst-case scenario.\n",
    "\n",
    "Why do we care about this?\n",
    "The reason is that now we can compare different algorithms.\n",
    "\n",
    "For example, if your implementation takes $5n + 3$ operations to run, then it is worse, right?\n",
    "\n",
    "Well, not necessarily!\n",
    "We have been assuming that all \"atomic\" operations are equally costly, but this is not true.\n",
    "It makes no sense to compare my implementation with your implementation by looking at those tiny differences. My $5n$ could be faster than your $3n$ if my \"atomic\" operations are simpler.\n",
    "\n",
    "We want a measure of complexity that vanishes all implementation details.\n",
    "To achieve this, we will take away everything unimportant when $n$ becomes very large. We will consider that:\n",
    "\n",
    "- $n + a$ and $n + b$ are the same\n",
    "- $a\\cdot n$ and $b\\cdot n$ are the same\n",
    "\n",
    "for finite constant values $a$ and $b$.\n",
    "\n",
    "Then, instead of saying $3n + 4$, we will say that the *asymptotic algorithmic complexity* is $\\mathcal{O}(n)$ -and we read it like \"Oh of n\" or something like that. This is the so-called big-O notation."
   ]
  },
  {
   "cell_type": "markdown",
   "metadata": {},
   "source": [
    "\n",
    "We say $\\mathcal{O}(n)$ means \"linear complexity\" because the number of operations grows linearly *with respect to* the size of the array.\n",
    "Formally, it means that your function's cost is bounded by a linear function.\n",
    "Intuitively, what this means is that in the long run, small differences like specific operations matter less than the ability that your algorithm has to *scale* with more data. And the reason is simple, an algorithm with a lower asymptotic complexity will eventually win.\n"
   ]
  },
  {
   "cell_type": "markdown",
   "metadata": {},
   "source": [
    "Let's consider for example the binary search algorithm. It has $\\mathcal{O}(\\log n)$ complexity."
   ]
  },
  {
   "cell_type": "code",
   "execution_count": null,
   "metadata": {},
   "outputs": [],
   "source": [
    "def binary_search(arr, x):\n",
    "    l = 0\n",
    "    r = len(arr) - 1\n",
    "    while l < r:\n",
    "        m = (l + r) // 2\n",
    "        if arr[m] < x:\n",
    "            l = m + 1\n",
    "        else:\n",
    "            r = m \n",
    "    if arr[l] == x:\n",
    "        return l\n",
    "    return None"
   ]
  },
  {
   "cell_type": "markdown",
   "metadata": {},
   "source": [
    "Why?\n",
    "\n",
    "Well, a simple reasoning is that it's dividing the length of the search range by 2 each time. So, if the current range has length is $\\mathcal{O}(2^t)$, it's transformed into a range of length $\\mathcal{O}(2^{t-1})$, and then into one of length $\\mathcal{O}(2^{t-2})$ and so on until reaching $\\mathcal{O}(2^{t-t}) = 1$.\n",
    "\n",
    "Thus, if the length of the array is $n = \\mathcal{O}(2^t)$, it takes $t = \\mathcal{O}(\\log n)$ iterations of the binary search to converge."
   ]
  },
  {
   "cell_type": "markdown",
   "metadata": {},
   "source": [
    "In the other side, a linear search algorithm is something like this:"
   ]
  },
  {
   "cell_type": "code",
   "execution_count": null,
   "metadata": {},
   "outputs": [],
   "source": [
    "Python\n",
    "def linear_search(arr, x):\n",
    "    for i in range(len(arr)):\n",
    "        if arr[i] == x:\n",
    "            return i\n",
    "    return None "
   ]
  },
  {
   "cell_type": "markdown",
   "metadata": {},
   "source": [
    "\n",
    "The Binary search is doing more work in each iteration than the linear search. It could be $20 \\log n$ vs $3 n$. With small arrays, probably the linear search will perform better than the binary search, but there's a value of $n$ after which binary search will win, regardless of implementation details."
   ]
  },
  {
   "cell_type": "markdown",
   "metadata": {},
   "source": [
    "\n",
    "This means that, if you have an $\\mathcal{O}(n^2)$ implementation of some algorithm, even if it's on C-language and runs in a supercomputer while mine is pure JavaScript and runs in the browser but it's $\\mathcal{O}(n \\cdot \\log n)$, there's an input size $n$ after which mine will be faster.\n"
   ]
  },
  {
   "cell_type": "markdown",
   "metadata": {},
   "source": [
    "\n",
    "So, the time complexity of a loop estimates the number of times the code inside the loop is executed. For example, the time complexity of the following code is $\\mathcal{O}(n)$, because the code inside the loop is executed $n$ times.\n",
    "\n",
    "```Python\n",
    "for i in range(n):\n",
    "    ...\n",
    "```"
   ]
  },
  {
   "cell_type": "markdown",
   "metadata": {},
   "source": [
    "The time complexity of the following code is $\\mathcal{O}(n^2)$\n",
    "```Python\n",
    "for i in range(n):\n",
    "    for j in range(n):\n",
    "        ...\n",
    "```\n"
   ]
  },
  {
   "cell_type": "markdown",
   "metadata": {},
   "source": [
    "In general, if there are $k$ nested loops and each loops goes through $n$ values, the time complexity is $\\mathcal{O}(n^k)$, by simple multiplication principle.\n",
    "\n",
    "Again, the time complexity doesn't tell us the exact number of operatioms, because it only shows the order of growth and ignores the constant factors. So, the following codes all have $\\mathcal{O}(n)$ complexity.\n"
   ]
  },
  {
   "cell_type": "markdown",
   "metadata": {},
   "source": [
    "```Python\n",
    "for i in range(3*n):\n",
    "    ...\n",
    "\n",
    "for i in range(n + 5):\n",
    "    ...\n",
    "\n",
    "for i in range(0, n, 2):\n",
    "    ...\n",
    "```"
   ]
  },
  {
   "cell_type": "markdown",
   "metadata": {},
   "source": [
    "The following code has $\\mathcal{O}(n^2)$ complexity, because the code inside the inner loop is exectued $1 + 2 + \\dots + n = \\frac{n(n + 1)}{2} = \\frac{n^2 + n}{2}$.\n",
    "\n",
    "```Python\n",
    "\n",
    "for i in range(1, n + 1):\n",
    "    for j in range(i):\n",
    "        ...\n",
    "```"
   ]
  },
  {
   "cell_type": "markdown",
   "metadata": {},
   "source": [
    "If an algorithm consists of consecutives phases, the total time complexity is the largest of all single phases. The reason is that the slowst is the bottleneck of the algorithm. For example, the following code consists of 3 phases with complexities $\\mathcal{O}(n)$, $\\mathcal{O}(n^2)$ and $\\mathcal{O}(n)$, Tgysm tge total complexity is $\\mathcal{O}(n^2)$.\n",
    "```Python\n",
    "for i in range(n):\n",
    "    ...\n",
    "for i in range(n):\n",
    "    for j in range(n):\n",
    "        ...\n",
    "for i in range(n):\n",
    "    ...\n",
    "```"
   ]
  },
  {
   "cell_type": "markdown",
   "metadata": {},
   "source": [
    "Sometimes the complexity depends on several factors, and then the formula will contain several variables. For example, the time complexity of the following code is $\\mathcal{O}(n m)$.\n",
    "```Python\n",
    "for i in range(n):\n",
    "    for j in range(m):\n",
    "        ...\n",
    "```"
   ]
  },
  {
   "cell_type": "markdown",
   "metadata": {},
   "source": [
    "### Note:\n",
    "\n",
    "Analyzing recursive algorithm is a bit more tricky, and we'll see it during the lecture about recursion.\n"
   ]
  },
  {
   "cell_type": "markdown",
   "metadata": {},
   "source": [
    "## Demo (Binary search vs. Linear Search)"
   ]
  },
  {
   "cell_type": "code",
   "execution_count": null,
   "metadata": {},
   "outputs": [],
   "source": [
    "from timeit import default_timer as timer\n",
    "\n",
    "arr = []"
   ]
  },
  {
   "cell_type": "code",
   "execution_count": null,
   "metadata": {},
   "outputs": [],
   "source": [
    "def linear_search(x: int):\n",
    "    '''\n",
    "    Returns the position where x is, and returns None in case it doesn't exist in the array\n",
    "    Time Complexity: O(n)\n",
    "    '''\n",
    "    for i in range(len(arr)):\n",
    "        if arr[i] == x:\n",
    "            return i \n",
    "    return None "
   ]
  },
  {
   "cell_type": "code",
   "execution_count": null,
   "metadata": {},
   "outputs": [],
   "source": [
    "def binary_search(x):\n",
    "    '''\n",
    "    Returns the position where x is, and returns None in case it doesn't exist in the array\n",
    "    Time Complexity: O(log n)\n",
    "    '''\n",
    "    l = 0\n",
    "    r = len(arr) - 1\n",
    "    while l < r:\n",
    "        mid = (l + r) // 2\n",
    "        if arr[mid] < x:\n",
    "            l = mid + 1\n",
    "        else:\n",
    "            r = mid \n",
    "    if arr[l] == x:\n",
    "        return l\n",
    "    return None"
   ]
  },
  {
   "cell_type": "code",
   "execution_count": null,
   "metadata": {},
   "outputs": [],
   "source": [
    "for n in [10, 100, 1000, 10000, 100000, 10000000]:\n",
    "    arr = [i for i in range(n)] # Creating a sorted array\n",
    "    value = max(arr) + 1 # Value to search\n",
    "    \n",
    "    start = timer()\n",
    "    linear_search(value)\n",
    "    end_time = timer()\n",
    "    print(f\"Linear Search with n = {n}: {round(end_time - start, 6)}\")\n",
    "\n",
    "    start = timer()\n",
    "    binary_search(value)\n",
    "    end_time = timer()\n",
    "    print(f\"Binary Search with n = {n}: {round(end_time - start, 6)}\")\n",
    "\n",
    "    print()\n",
    "    "
   ]
  },
  {
   "cell_type": "markdown",
   "metadata": {},
   "source": [
    "### Trick:"
   ]
  },
  {
   "cell_type": "markdown",
   "metadata": {},
   "source": [
    "Sometimes, it might hard to understand what's the complexity of the code, but we can get a rough estimate of it somehow.\n",
    "\n",
    "We can try several input of different sizes, and count how many operations more or less it does (my just having a `counter` variable and increasing it in every step), and then plot the graph of the value of `counter` for every given input."
   ]
  }
 ],
 "metadata": {
  "language_info": {
   "name": "python"
  },
  "orig_nbformat": 4
 },
 "nbformat": 4,
 "nbformat_minor": 2
}
