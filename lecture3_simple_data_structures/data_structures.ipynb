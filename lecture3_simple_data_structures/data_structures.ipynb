{
 "cells": [
  {
   "cell_type": "markdown",
   "metadata": {},
   "source": [
    "# Simple Data Structures"
   ]
  },
  {
   "cell_type": "markdown",
   "metadata": {},
   "source": [
    "In real life, we need to store big amounts of data, and do certain operations efficiently. Then, we need *smart* ways of storing them.\n",
    "\n",
    "These ways of storing the data are called Data Structures."
   ]
  },
  {
   "cell_type": "markdown",
   "metadata": {},
   "source": [
    "First, we're gonna see linear data structures, and then we'll move to a non-linear data structure which is very common."
   ]
  },
  {
   "cell_type": "markdown",
   "metadata": {},
   "source": [
    "The data structures that we are gonna see are graph-like shaped. Each datum will represent a vertex of the graph, and there will be connections that will guide the search in case of some queries."
   ]
  },
  {
   "cell_type": "markdown",
   "metadata": {},
   "source": [
    "## Linked-List"
   ]
  },
  {
   "cell_type": "markdown",
   "metadata": {},
   "source": [
    "In liked list, we keep each vertex next to the other, and each one contains a link to the one to its right.\n",
    "\n",
    "<img src = https://www.alphacodingskills.com/imgfiles/linked-list.PNG>"
   ]
  },
  {
   "cell_type": "markdown",
   "metadata": {},
   "source": [
    "A simple implementation would be:"
   ]
  },
  {
   "cell_type": "code",
   "execution_count": 7,
   "metadata": {},
   "outputs": [
    {
     "name": "stdout",
     "output_type": "stream",
     "text": [
      "3 5 -1 \n",
      "5 -1 \n"
     ]
    }
   ],
   "source": [
    "class LinkedList:\n",
    "    class Node:\n",
    "        def __init__(self, value = None):\n",
    "            self.value = value\n",
    "            self.next = None\n",
    "        \n",
    "    def __init__(self):\n",
    "        self.head = self.Node()\n",
    "\n",
    "    def __recursive__append(self, node, value):\n",
    "        if node is None:\n",
    "            return self.Node(value)\n",
    "\n",
    "        node.next = self.__recursive__append(node.next, value)\n",
    "        return node \n",
    "\n",
    "    def append(self, value):\n",
    "        self.head = self.__recursive__append(self.head, value)\n",
    "    \n",
    "    def pop(self):\n",
    "        assert self.head.next is not None, 'The list is empty.'\n",
    "        self.head = self.head.next\n",
    "\n",
    "    def __iter__(self):\n",
    "        node = self.head.next\n",
    "        while node is not None:\n",
    "            yield node.value\n",
    "            node = node.next \n",
    "\n",
    "\n",
    "L = LinkedList()\n",
    "L.append(3)\n",
    "L.append(5)\n",
    "L.append(-1)\n",
    "\n",
    "for i in L:\n",
    "    print(i, end = ' ')\n",
    "print()\n",
    "\n",
    "L.pop()\n",
    "\n",
    "for i in L:\n",
    "    print(i, end = ' ')\n",
    "print()"
   ]
  },
  {
   "cell_type": "markdown",
   "metadata": {},
   "source": [
    "## Stacks"
   ]
  },
  {
   "cell_type": "markdown",
   "metadata": {},
   "source": [
    "Stacks work exactly as the name say, as a stack of cards.\n",
    "- Put elements on the top.\n",
    "- Pop elements from the top.\n",
    "- Unable to refer to or erase elements from the bottom or internal positions.\n",
    "\n",
    "We call it **LIFO** (Last In - First Out) protocol or rule."
   ]
  },
  {
   "cell_type": "markdown",
   "metadata": {},
   "source": [
    "- [Stack Visualiztion with Linked List](https://www.cs.usfca.edu/~galles/visualization/StackLL.html)\n",
    "\n",
    "- [Stack Visualization with Array](https://www.cs.usfca.edu/~galles/visualization/StackArray.html)"
   ]
  },
  {
   "cell_type": "markdown",
   "metadata": {},
   "source": [
    "### Implementation with arrays"
   ]
  },
  {
   "cell_type": "code",
   "execution_count": 15,
   "metadata": {},
   "outputs": [
    {
     "name": "stdout",
     "output_type": "stream",
     "text": [
      "20 10 3 \n"
     ]
    }
   ],
   "source": [
    "class Stack:\n",
    "    def __init__(self):\n",
    "        self.arr = []\n",
    "\n",
    "    def push(self, x):\n",
    "        self.arr.append(x)\n",
    "\n",
    "    def pop(self):\n",
    "        self.arr.pop(-1)\n",
    "\n",
    "    def top(self):\n",
    "        return self.arr[-1]\n",
    "\n",
    "    def __len__(self):\n",
    "        return len(self.arr)\n",
    "\n",
    "    def empty(self):\n",
    "        return self.__len__() == 0\n",
    "\n",
    "S = Stack()\n",
    "S.push(3)\n",
    "S.push(10)\n",
    "S.push(20)\n",
    "\n",
    "while len(S) > 0:\n",
    "    print(S.top(), end = ' ')\n",
    "    S.pop()\n",
    "\n",
    "print()"
   ]
  },
  {
   "cell_type": "markdown",
   "metadata": {},
   "source": [
    "### Problem I: Reversed polish notation."
   ]
  },
  {
   "cell_type": "markdown",
   "metadata": {},
   "source": [
    "[Link to wikipedia explaining what it is.](https://en.wikipedia.org/wiki/Reverse_Polish_notation)"
   ]
  },
  {
   "cell_type": "markdown",
   "metadata": {},
   "source": [
    "We are gonna have a stack where we'll keep track all the numbers that are computed so far. Then, we iterate through the sequence from left to right, and each time that we receive a new operator, we take the last two elements from the stack, pop them, perform that operation with those two numbers and then push the resulting value to the stack."
   ]
  },
  {
   "cell_type": "code",
   "execution_count": 13,
   "metadata": {},
   "outputs": [
    {
     "name": "stdout",
     "output_type": "stream",
     "text": [
      "-20\n",
      "7\n"
     ]
    }
   ],
   "source": [
    "def reversed_polish(sequence: str) -> int:\n",
    "    sequence = sequence.split()\n",
    "    S = Stack()\n",
    "    for x in sequence:\n",
    "        if x.isnumeric():\n",
    "            x = int(x)\n",
    "            S.push(x)\n",
    "        else:\n",
    "            a = S.top()\n",
    "            S.pop()\n",
    "\n",
    "            b = S.top()\n",
    "            S.pop()\n",
    "\n",
    "            \n",
    "            if x == '+':\n",
    "                c = a + b\n",
    "            elif x == '-':\n",
    "                c = a - b \n",
    "            elif x == '*':\n",
    "                c = a * b \n",
    "\n",
    "            S.push(c)\n",
    "\n",
    "    return S.top()\n",
    "\n",
    "\n",
    "print(reversed_polish(\"3 4 + 5 - 10 *\"))\n",
    "print(reversed_polish(\"3 4 + 5 6 - *\"))"
   ]
  },
  {
   "cell_type": "markdown",
   "metadata": {},
   "source": [
    "### Problem II: Checking if a bracket sequence is correctly balanced."
   ]
  },
  {
   "cell_type": "markdown",
   "metadata": {},
   "source": [
    "A balanced bracket sequence is a string consisting of only brackets, such that this sequence, when inserted certain numbers and mathematical operations, gives a valid mathematical expression.\n",
    "\n",
    "For example: `[]([][])` is correct, but `[]{{}` is not."
   ]
  },
  {
   "cell_type": "markdown",
   "metadata": {},
   "source": [
    "**Solution**:\n",
    "Let's start with an empty stack, and let's go from left to right. This stack will keep all the open brackets pending to be closed. From left to right, each time we receive an open bracket, we push it into the stack; and whenever we see a closed bracket, it must close the last pending open bracket in the stack. Thus, if when we see a closed bracket, the stack is empty or the top element in stack is not the corresponding one, it means the sequence is not balanced. If at the end of the processs, the stack is not empty, then the sequence is not balanced either. Otherwise, it is balanced."
   ]
  },
  {
   "cell_type": "code",
   "execution_count": 16,
   "metadata": {},
   "outputs": [
    {
     "name": "stdout",
     "output_type": "stream",
     "text": [
      "Sequence balanced\n"
     ]
    }
   ],
   "source": [
    "S = Stack()\n",
    "sequence = input()\n",
    "\n",
    "match = {\n",
    "    '(': ')',\n",
    "    '{': '}',\n",
    "    '[': ']'\n",
    "}\n",
    "\n",
    "for c in sequence:\n",
    "    if c in {'(', '[', '{'}:\n",
    "        S.push(c)\n",
    "    else:\n",
    "        if S.empty() == True or match[S.top()] != c:\n",
    "            print('Sequence not balanced')\n",
    "            exit(0)\n",
    "        S.pop()\n",
    "\n",
    "if S.empty() == False:\n",
    "    print('Sequence not balanced')\n",
    "else:\n",
    "    print('Sequence balanced')\n",
    "            \n",
    "\n"
   ]
  },
  {
   "cell_type": "markdown",
   "metadata": {},
   "source": [
    "## Queues"
   ]
  },
  {
   "cell_type": "markdown",
   "metadata": {},
   "source": [
    "Queues work as queues in the super market.\n",
    "- Put elements at the end.\n",
    "- Pop elements from the begining.\n",
    "- Unable to refer or erase elements from internal positions.\n",
    "\n",
    "We call it **FIFO** (First In - First Out) protocol.\n",
    "\n",
    "\n",
    "- [Queue with LinkedLists visualiztion](https://www.cs.usfca.edu/~galles/visualization/QueueLL.html)\n",
    "- [Queue with Arrays visualization](https://www.cs.usfca.edu/~galles/visualization/QueueArray.html)\n",
    "\n",
    "They're useful because they allow us to schedule processes."
   ]
  },
  {
   "cell_type": "markdown",
   "metadata": {},
   "source": [
    "### Implementation with array"
   ]
  },
  {
   "cell_type": "code",
   "execution_count": 17,
   "metadata": {},
   "outputs": [
    {
     "name": "stdout",
     "output_type": "stream",
     "text": [
      "3\n",
      "8\n"
     ]
    }
   ],
   "source": [
    "class Queue:\n",
    "    def __init__(self):\n",
    "        self.head = 0\n",
    "        self.arr = []\n",
    "\n",
    "    def push(self, value):\n",
    "        self.arr.append(value)\n",
    "\n",
    "    def front(self):\n",
    "        assert not self.empty(), 'Queue is empty.'\n",
    "        return self.arr[self.head]\n",
    "\n",
    "    def pop(self):\n",
    "        assert not self.empty(), 'Queue is empty.'\n",
    "        self.arr[self.head] = None\n",
    "        self.head += 1\n",
    "\n",
    "    def __len__(self):\n",
    "        return len(self.arr) - self.head\n",
    "\n",
    "    def empty(self):\n",
    "        return self.__len__ == 0\n",
    "\n",
    "Q = Queue()\n",
    "Q.push(3)\n",
    "Q.push(8)\n",
    "Q.push(5)\n",
    "Q.push(11)\n",
    "Q.push(7)\n",
    "\n",
    "print(Q.front())\n",
    "Q.pop()\n",
    "print(Q.front())"
   ]
  },
  {
   "cell_type": "markdown",
   "metadata": {},
   "source": [
    "### Python Built-in implementations\n",
    "\n",
    "- `collections.deque`\n",
    "- `queue.Queue`\n",
    "\n",
    "For our proposes, we're gonna use the `deque` from collections. Something to remark is that a deque is a double ended queue, which means that we can append on each side and erase from both sides.\n",
    "\n",
    "[Python's Deque documentation](https://docs.python.org/3/library/collections.html#collections.deque)"
   ]
  },
  {
   "cell_type": "code",
   "execution_count": 18,
   "metadata": {},
   "outputs": [
    {
     "name": "stdout",
     "output_type": "stream",
     "text": [
      "2 3 5 7 \n",
      "2 3 5 \n",
      "3 5 \n"
     ]
    }
   ],
   "source": [
    "from collections import deque \n",
    "\n",
    "Q = deque()\n",
    "\n",
    "Q.append(3)\n",
    "Q.append(5)\n",
    "Q.append(7)\n",
    "\n",
    "Q.appendleft(2)\n",
    "\n",
    "for i in Q:\n",
    "    print(i, end=' ')\n",
    "print()\n",
    "Q.pop()\n",
    "\n",
    "for i in Q:\n",
    "    print(i, end = ' ')\n",
    "print()\n",
    "Q.popleft()\n",
    "\n",
    "\n",
    "for i in Q:\n",
    "    print(i, end = ' ')\n",
    "print()\n"
   ]
  },
  {
   "cell_type": "markdown",
   "metadata": {},
   "source": [
    "## Full or Almost Full Binary Trees (Heaps)"
   ]
  },
  {
   "cell_type": "markdown",
   "metadata": {},
   "source": [
    "So far, all the data structures seen are linear, and they are quite limited in the features they bring. For example, if we want to be able to compute the minimum across all the elements, all of them require $\\Omega(n)$ time to find it, because they don't have any information related to the values of the elements.\n",
    "\n",
    "To be able to do so, we need to use more information, or structure the data in a smarter way. That's why we have Binary Trees.\n",
    "\n",
    "In a binary tree, one of the vertices is the root. And each vertex has at most 2 children.\n",
    "\n",
    "A full binary tree is a binary tree where every level is completely full, (i.e.: the level 0 contains 1 vertex, the level 1 contains 2 vertices, the level 2 contains 4 vertices, ..., the level $i$ contains $2^i$ vertices).\n",
    "\n",
    "Suppose a full binary tree has $t$ levels and $n$ vertices. Then $2^0 + 2^1 + \\dots + 2^{t-1} = n \\implies 2^{t} - 1 = n \\implies t = \\mathcal{O}(\\log n)$.\n",
    "So, a full binary tree has logarithmic height with respect to its size.\n",
    "\n",
    "When we are inserting vertices to a full binary tree, if the last level is completely full, we insert the new vertex at the begining of the next level. If it's not completely full, we then insert it in the first free position of the last level.\n",
    "\n",
    "![Full Binary tree picture](full_binary_tree_1.png \"Binary Tree 1\")\n",
    "\n",
    "In this picture, if we want to insert a vertex $7$, we would need to insert it as a child of the vertex 3 in a new level.\n",
    "\n",
    "![Almost Full Binary tree picture](almost_full_binary_tree_1.png \"Binary Tree 2\")\n",
    "\n",
    "In this other picture, if we want to insert a vertex $9$, we would need to insert it as a child of the vertex 4 in the deepest level. At this moment, the tree is not full, and we call almost full binary tree."
   ]
  },
  {
   "cell_type": "markdown",
   "metadata": {},
   "source": [
    "**Something to notice:**\n",
    "- We are indexing the vertices level by level, from left to right. That way, if a vertex has index $u$, then its left child has index $2u + 1$ and its right child has index $2u + 2$.\n",
    "- Then, if a vertex has index $u$, its parent has index $\\lfloor\\frac{u - 1}{2}\\rfloor$. For example, the vertex $7$ has parent $\\lfloor\\frac{7 - 1}{2}\\rfloor = \\lfloor\\frac{6}{2}\\rfloor = 3$, and the vertex $8$ has parent $\\lfloor\\frac{8 - 1}{2}\\rfloor = \\lfloor\\frac{7}{2}\\rfloor = 3$."
   ]
  },
  {
   "cell_type": "markdown",
   "metadata": {},
   "source": [
    "We can actually store the tree as a simple array, where the position makes reference to the index of the vertex, and the value at that position would be the value stored in the corresponding vertex.\n",
    "That way, the root of the tree would be the value at position $0$ on that list, and the last vertex would be the value at the end of the tree."
   ]
  },
  {
   "cell_type": "markdown",
   "metadata": {},
   "source": [
    "### Min Heap"
   ]
  },
  {
   "cell_type": "markdown",
   "metadata": {},
   "source": [
    "So far, we don't really have any information about which value is less than any other, and apparently, we just have a list that contains the values in the same order as they're inserted.\n",
    "Well, we'll keep the following invariant in the tree:\n",
    "\n",
    "*For any vertex $u$, it's hold that $val(u) \\le val(2u)$ and $val(u) \\le val(2u + 1)$*.\n",
    "This means that any vertex has a smaller value than all the vertices below it in the tree.\n",
    "\n",
    "That way, the minimum value on the tree is at the root, so we can get the minimum in constant time."
   ]
  },
  {
   "cell_type": "markdown",
   "metadata": {},
   "source": [
    "Now, when we insert a new element, we need to make sure that this invariant keeps being true. Therefore, we need to change the structure of the tree a little bit, so that it remains true.\n",
    "What we're going to do is a method that we call `heapify upwards`.\n",
    "We start from the inserted vertex at the bottom, and continuely swap it with its parent if it happens that the vertex has a smaller value than its parent.\n",
    "\n",
    "Because the height of the tree is $\\mathcal{O}(\\log n)$, any vertex has at most $\\mathcal{O}(\\log n)$ ancestors.\n",
    "\n",
    "What happens if we want to pop the minimum value (i.e.: erase the root from the tree). Then, we need to merge the two resulting subtrees.\n",
    "Instead of that, let's swap first the root's value with the last node's value. Then just erase the last node from the tree, which doesn't affect the structure of tree. Now, the value at the root is not smaller than its children's, and therefore we need to swap it a few times so that we keep the invariant property true. This is a method that we call `heapify downwards`, and it does the following:\n",
    "- We're at some vertex $u$.\n",
    "- Then we find the child of $u$ with the smallest value. Let's call that child $x$.\n",
    "- If that value is greater than $val(u)$ then it's fine, and we stop.\n",
    "- Otherwise, we swap $val(x)$ and $val(u)$ and then move downwards towards $x$, and continue doing the same process with $x$.\n",
    "\n",
    "At the end, the tree will remain as a heap, and because the height is logarithmic, this is also very efficient."
   ]
  },
  {
   "cell_type": "markdown",
   "metadata": {},
   "source": [
    "#### Implementation"
   ]
  },
  {
   "cell_type": "code",
   "execution_count": 19,
   "metadata": {},
   "outputs": [],
   "source": [
    "def parent(v):\n",
    "    return (v - 1) // 2\n",
    "\n",
    "def left(v):\n",
    "    return 2 * v + 1\n",
    "\n",
    "def right(v):\n",
    "    return 2 * v + 2"
   ]
  },
  {
   "cell_type": "code",
   "execution_count": 20,
   "metadata": {},
   "outputs": [],
   "source": [
    "class Heap:\n",
    "    def __init__(self):\n",
    "        self.lst = []\n",
    "\n",
    "    def swap(self, pos_1, pos_2):\n",
    "        '''\n",
    "        Swaps the values at position `pos_1` and `pos_2` on the list\n",
    "        '''\n",
    "        self.lst[pos_1], self.lst[pos_2] = self.lst[pos_2], self.lst[pos_1]\n",
    "\n",
    "\n",
    "    def heapify_down(self, pos: int ) -> None:\n",
    "        '''\n",
    "        Swaps the value at the root as long as it's greater than its two children\n",
    "        '''\n",
    "        v = pos\n",
    "\n",
    "        while v < len(self.lst):\n",
    "            l = left(v)\n",
    "            r = right(v)\n",
    "\n",
    "            if l >= len(self.lst):\n",
    "                break \n",
    "            \n",
    "            idx = -1\n",
    "\n",
    "            if r >= len(self.lst) or self.lst[l] <= self.lst[r]:\n",
    "                idx = l\n",
    "            else:\n",
    "                idx = r\n",
    "            \n",
    "            if self.lst[idx] < self.lst[v]:\n",
    "                self.swap(idx, v)\n",
    "                v = idx\n",
    "            else:\n",
    "                break \n",
    "\n",
    "    def heapify_up(self, v: int) -> None :\n",
    "        '''\n",
    "        Swap the vertex v with its ancestors as long as it is greater than them\n",
    "        '''\n",
    "        while v != 0:\n",
    "            pv = parent(v)\n",
    "\n",
    "            if self.lst[pv] > self.lst[v]:\n",
    "                self.swap(pv, v)\n",
    "                v = parent(v)\n",
    "            else:\n",
    "                break\n",
    "\n",
    "    def insert(self, value: int) -> None:\n",
    "        self.lst.append(value)\n",
    "        self.heapify_up(len(self.lst) - 1)\n",
    "\n",
    "        \n",
    "    def pop(self, pos: int = -1) -> None:\n",
    "        '''\n",
    "        Pops the value at position `pos`\n",
    "        '''\n",
    "        if pos == -1:\n",
    "            pos = len(self.lst) - 1\n",
    "        assert not self.empty(), 'The heap is empty, thus we cannot erase anything'\n",
    "        assert pos >= 0 and pos < len(self.lst), 'Position should be in [0, len(lst))'\n",
    "\n",
    "        self.swap(pos, -1)\n",
    "        self.lst.pop(-1)\n",
    "\n",
    "        if not self.empty():\n",
    "            self.heapify_down(pos)\n",
    "            self.heapify_up(pos)\n",
    "\n",
    "    def __len__(self):\n",
    "        return len(self.lst)\n",
    "\n",
    "    def empty(self):\n",
    "        return self.__len__() == 0\n",
    "\n",
    "\n"
   ]
  },
  {
   "cell_type": "markdown",
   "metadata": {},
   "source": [
    "So, notice that we're able to insert values, and pop the minimum in $\\mathcal{O}(\\log n)$ time, and get the minimum in $\\mathcal{O}(1)$ time. In order to build a heap from an existing list, we can just insert the elements one by one, taking in total $\\mathcal{O}(n\\log n)$ time."
   ]
  },
  {
   "cell_type": "markdown",
   "metadata": {},
   "source": [
    "#### Built-in implementations"
   ]
  },
  {
   "cell_type": "markdown",
   "metadata": {},
   "source": [
    "Fortunately, Python already contains the library `heapq` which contains all these operations, and also it builds the heap in linear time."
   ]
  },
  {
   "cell_type": "code",
   "execution_count": 24,
   "metadata": {},
   "outputs": [
    {
     "name": "stdout",
     "output_type": "stream",
     "text": [
      "Before heapifying: [1, 7, 3, 2, 1]\n",
      "After heapifying: [1, 1, 3, 2, 7]\n",
      "After erasing the minimum: [1, 2, 3, 7]\n",
      "After inserting a new minimum: [-1, 1, 3, 7, 2]\n"
     ]
    }
   ],
   "source": [
    "import heapq\n",
    "import numpy as np \n",
    "\n",
    "x = np.random.randint(10, size = 5)\n",
    "l = list(x)\n",
    "\n",
    "print('Before heapifying:', l)\n",
    "\n",
    "heapq.heapify(l)\n",
    "print('After heapifying:', l)\n",
    "\n",
    "heapq.heappop(l)\n",
    "print('After erasing the minimum:', l)\n",
    "\n",
    "heapq.heappush(l, -1)\n",
    "print('After inserting a new minimum:', l)\n"
   ]
  },
  {
   "cell_type": "markdown",
   "metadata": {},
   "source": [
    "### Max Heap"
   ]
  },
  {
   "cell_type": "markdown",
   "metadata": {},
   "source": [
    "We saw a heap where every vertex has a value smaller than its children, and that way we're able to compute the minimum in constant time.\n",
    "*What if we want to compute the maximum?*\n",
    "\n",
    "Well, we can have a **Max Heap**, in which every vertex has a bigger value than its children, and it would work exactly in the same way. Or we can also just keep a min heap with the negative values of the original values; so instead of having a list `[1, 4, 2]`, we would have `[-1, -4, -2]`."
   ]
  }
 ],
 "metadata": {
  "kernelspec": {
   "display_name": "Python 3.10.0",
   "language": "python",
   "name": "python3"
  },
  "language_info": {
   "codemirror_mode": {
    "name": "ipython",
    "version": 3
   },
   "file_extension": ".py",
   "mimetype": "text/x-python",
   "name": "python",
   "nbconvert_exporter": "python",
   "pygments_lexer": "ipython3",
   "version": "3.10.0"
  },
  "orig_nbformat": 4,
  "vscode": {
   "interpreter": {
    "hash": "2d20419c564893ff7827d87520a6c3b654e0969c6aa9ae3b46a277348f487f0d"
   }
  }
 },
 "nbformat": 4,
 "nbformat_minor": 2
}
