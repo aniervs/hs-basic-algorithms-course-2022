{
 "cells": [
  {
   "cell_type": "markdown",
   "metadata": {},
   "source": [
    "# Dynamic Programming Practice"
   ]
  },
  {
   "cell_type": "markdown",
   "metadata": {},
   "source": [
    "## Problem 1."
   ]
  },
  {
   "cell_type": "markdown",
   "metadata": {},
   "source": [
    "Given a list, find the length of longest subsequence so that every number is divisor of the next one.\n",
    "\n",
    "L = [1, 5, 4, 12, 15, 30]\n",
    "\n",
    "possible valid lists:\n",
    "- [1, 4, 12]\n",
    "- [1, 5, 15, 30]\n",
    "- ...\n",
    "\n",
    "the longest one is [1, 5, 15, 30], so the answer in this example is 4\n",
    "\n",
    "**Hint**: Very similar to the Longest Increasing Subsequence problem.\n",
    "Expected time complexity: $\\mathcal{O}(n^2)$, where $n$ is the length of the list."
   ]
  },
  {
   "cell_type": "code",
   "execution_count": 3,
   "metadata": {},
   "outputs": [
    {
     "data": {
      "text/plain": [
       "[1, 2, 2, 3, 3, 4]"
      ]
     },
     "execution_count": 3,
     "metadata": {},
     "output_type": "execute_result"
    }
   ],
   "source": [
    "arr = [1, 5, 4, 12, 15, 30]\n",
    "\n",
    "memo = dict()\n",
    "\n",
    "def longest_divisor_subsequence(n: int) -> int:\n",
    "    '''\n",
    "    computes the length of the longest subquence ending at position n in the array, such that every number is a divisor of the next one\n",
    "    '''\n",
    "\n",
    "    if n in memo:\n",
    "        return memo[n]\n",
    "    ans = 1 # taking the number at position n itself alone\n",
    "\n",
    "    for i in range(n):\n",
    "        if arr[n] % arr[i] == 0:\n",
    "            ans = max(ans, longest_divisor_subsequence(i) + 1)\n",
    "\n",
    "    memo[n] = ans\n",
    "    return ans \n",
    "\n",
    "n = len(arr)\n",
    "[longest_divisor_subsequence(i) for i in range(n)]"
   ]
  },
  {
   "cell_type": "markdown",
   "metadata": {},
   "source": [
    "## Problem 2.\n",
    "\n",
    "Given a list of numbers, try to split it into pieces, so that the total cost is minimized.\n",
    "\n",
    "The cost of a piece is the square of the sum of all the numbers in that piece.\n",
    "The total cost of a splitting is the sum of the costs of the pieces.\n",
    "\n",
    "L = [-1, -10, 5, 10, -6]\n",
    "\n",
    "- [-1]  [-10, 5, 10, -6]\n",
    "\n",
    "- [-1], [-10], [5], [10], [-6] is valid\n",
    "\n",
    "- [-1, -10, 5, 10, -6] is valid\n",
    "\n",
    "One valid split is: [-1, -10] [5, 10] [-6]. The cost of this splitting is $(-1 - 10)^2 + (5 + 10)^2 + (-6)^2 = (-11)^2 + 15^2 + (-6)^2 = 121 + 225 + 36 = 382$. Thus, the total cost of this splitting is 382.\n",
    "\n",
    "**Note:** This is not necessarily the optimal splitting.\n",
    "\n",
    "**Hint:** It's also a bit similar to Longest Increasing Subsequence.\n",
    "1. Expected Time Complexity: $\\mathcal{O}(n^3)$\n",
    "2. Hard version: Expected Time Complexity: $\\mathcal{O}(n^2)$ (**homework**)."
   ]
  },
  {
   "cell_type": "code",
   "execution_count": 26,
   "metadata": {},
   "outputs": [
    {
     "data": {
      "text/plain": [
       "[1, 101, 26, 16, 2]"
      ]
     },
     "execution_count": 26,
     "metadata": {},
     "output_type": "execute_result"
    }
   ],
   "source": [
    "arr = [-1, -10, 5, 10, -6]\n",
    "\n",
    "memo = dict()\n",
    "\n",
    "def min_cost_splitting(n: int) -> int:\n",
    "    \"\"\"\n",
    "    min_cost_splitting(n): minimum total cost of splitting the array 0....n\n",
    "    \"\"\"\n",
    "\n",
    "    # Bases cases\n",
    "    if n == -1:\n",
    "        return 0\n",
    "\n",
    "    # Memoization check\n",
    "    if n in memo:\n",
    "        return memo[n]\n",
    "\n",
    "    ans = (sum(arr[:n + 1]))**2 # Case of taking the whole array as a piece\n",
    "\n",
    "    for k in range(1, n + 1): # for every possible size K, take the last K elements as one piece\n",
    "        ans = min(ans, sum(arr[n-k+1 : n + 1])**2 + min_cost_splitting(n - k)) # then, we are left with N -  K elements to split\n",
    "    \n",
    "    memo[n] = ans # cache the computed answer\n",
    "    return ans\n",
    "\n",
    "\n",
    "N = len(arr)\n",
    "[min_cost_splitting(i) for i in range(N)]"
   ]
  },
  {
   "cell_type": "markdown",
   "metadata": {},
   "source": [
    "## Problem 3."
   ]
  },
  {
   "cell_type": "markdown",
   "metadata": {},
   "source": [
    "Given a grid, representing some field, where $A_{r, c}$ is the amount of gold in the position $(r, c)$, find the path that only goes DOWN or RIGHT from the top-left corner to the bottom-right corner with the maximal total amount of gold (just the profit, not interesed in the real sequence of steps)."
   ]
  },
  {
   "cell_type": "code",
   "execution_count": 10,
   "metadata": {},
   "outputs": [
    {
     "name": "stdout",
     "output_type": "stream",
     "text": [
      "5 9 3 2 3\n",
      "2 8 5 4 3\n",
      "1 2 1 8 9\n",
      "6 2 4 4 9\n",
      "9 1 3 2 7\n",
      "\n",
      "Max profit: 64\n",
      "RDRRDRDD\n"
     ]
    }
   ],
   "source": [
    "import numpy as np \n",
    "\n",
    "N, M = 5, 5\n",
    "\n",
    "arr = [[np.random.randint(1, 10) for i in range(M)] for j in range(N)]\n",
    "\n",
    "memo = dict()\n",
    "best_movement = dict()\n",
    "\n",
    "def max_profit_path(row: int, col: int) -> int:\n",
    "    \"\"\" \n",
    "    returns the max total profit on a path from (row, col) to the bottom right corner\n",
    "    \"\"\"\n",
    "\n",
    "    if row >= N or col >= M: # if we are outisde the matrix, then it means we reached this position with an invalid movement\n",
    "        return -(10**9)\n",
    "\n",
    "    if row == N-1 and col == M-1:\n",
    "        return arr[row][col]\n",
    "\n",
    "    state = tuple([row, col])\n",
    "    if state in memo:\n",
    "        return memo[state]\n",
    "\n",
    "    profit_right = max_profit_path(row, col + 1) + arr[row][col]\n",
    "    profit_down =  max_profit_path(row + 1, col) + arr[row][col]\n",
    "\n",
    "    if profit_down > profit_right:\n",
    "        memo[state] = profit_down\n",
    "        best_movement[state] = 'D'\n",
    "    else:\n",
    "        memo[state] = profit_right\n",
    "        best_movement[state] = 'R'\n",
    "    \n",
    "    return memo[state]\n",
    "\n",
    "def reconstruct_path(row: int, col: int) -> str:\n",
    "    ''' \n",
    "    returns the best possible path starting at (row, col)\n",
    "    '''\n",
    "\n",
    "    sequence = \"\"\n",
    "\n",
    "    while row != N - 1 or col != M - 1:\n",
    "        state = tuple([row, col])\n",
    "        \n",
    "        assert state in best_movement, 'State is not in the best_movement dictionary'\n",
    "        \n",
    "        sequence += best_movement[state]\n",
    "\n",
    "        if best_movement[state] == 'D':\n",
    "            row += 1\n",
    "        elif best_movement[state] == 'R':\n",
    "            col += 1\n",
    "\n",
    "    return sequence\n",
    "\n",
    "\n",
    "for row in arr:\n",
    "    print(*row)\n",
    "\n",
    "print()\n",
    "\n",
    "print('Max profit:', max_profit_path(0, 0))\n",
    "\n",
    "print(reconstruct_path(0, 0))"
   ]
  },
  {
   "cell_type": "markdown",
   "metadata": {},
   "source": [
    "## Problem 4."
   ]
  },
  {
   "cell_type": "markdown",
   "metadata": {},
   "source": [
    "Given a DAG (Directed Acyclic Graph) of $N$ nodes and $M$ edges, where very vertex $u$ has a penalty $p(u)$, and two vertices $s$ (source vertex) and $e$ (destiny vertex), find the path from $s$ to $e$ with the smallest total penalty."
   ]
  },
  {
   "cell_type": "code",
   "execution_count": null,
   "metadata": {},
   "outputs": [],
   "source": [
    "N, M = map(int, input().split())\n",
    "\n",
    "adj = [[] for _ in range(N)]\n",
    "value = list(map(int, input().split()))\n",
    "\n",
    "for _ in range(M):\n",
    "    u, v = map(int, input())\n",
    "    u, v = u - 1, v - 1\n",
    "    adj[u].append(v) # it's a directed graph, thus we don't add the edge v-->u\n",
    "\n",
    "s, t = map(int, input().split()) # source and destiny vertex respectively\n",
    "\n",
    "memo = dict()\n",
    "\n",
    "def min_penalty(u: int) -> int:\n",
    "\n",
    "    if len(adj[u]) == 0: # it doesn't have any neighbours\n",
    "        return 10**10\n",
    "        \n",
    "    if u == t:\n",
    "        return value[u]\n",
    "\n",
    "    global memo\n",
    "    \n",
    "    if u in memo:\n",
    "        return memo[u]\n",
    "    \n",
    "    \n",
    "    ans = 10**10\n",
    "    for v in adj[u]:\n",
    "        ans = min(ans, min_penalty(v) + value[u])\n",
    "\n",
    "    memo[u] = ans    \n",
    "    return ans \n",
    "\n"
   ]
  }
 ],
 "metadata": {
  "kernelspec": {
   "display_name": "Python 3.10.0 ('ds')",
   "language": "python",
   "name": "python3"
  },
  "language_info": {
   "codemirror_mode": {
    "name": "ipython",
    "version": 3
   },
   "file_extension": ".py",
   "mimetype": "text/x-python",
   "name": "python",
   "nbconvert_exporter": "python",
   "pygments_lexer": "ipython3",
   "version": "3.10.0"
  },
  "orig_nbformat": 4,
  "vscode": {
   "interpreter": {
    "hash": "7b5a7c82a2d96a649e8ee0ca6eae019d05cad0427e100720215ef8977d0d79c2"
   }
  }
 },
 "nbformat": 4,
 "nbformat_minor": 2
}
